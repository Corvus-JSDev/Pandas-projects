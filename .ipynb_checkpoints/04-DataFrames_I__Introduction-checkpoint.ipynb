{
 "cells": [
  {
   "cell_type": "markdown",
   "id": "953f78eb",
   "metadata": {},
   "source": [
    "# DataFrames I"
   ]
  },
  {
   "cell_type": "code",
   "execution_count": 1,
   "id": "b098a2b1",
   "metadata": {},
   "outputs": [],
   "source": [
    "import pandas as pd"
   ]
  },
  {
   "cell_type": "markdown",
   "id": "613224c0-d3f7-424f-9ecc-aac42e00ef89",
   "metadata": {},
   "source": [
    "---"
   ]
  },
  {
   "cell_type": "markdown",
   "id": "a0d5e19f",
   "metadata": {},
   "source": [
    "## Methods and Attributes shared between Series and DataFrames\n",
    "- A **DataFrame** is a 2-dimensional table consisting of rows and columns.\n",
    "- Pandas uses a `NaN` designation for cells that have a missing value. It is short for \"not a number\". Most operations on `NaN` values will produce `NaN` values.\n",
    "- Like with a **Series**, Pandas assigns an index position/label to each **DataFrame** row.\n",
    "- The **DataFrame** and **Series** have common and exclusive methods/attributes.\n",
    "- The `hasnans` attribute exists only a **Series**. The `columns` attribute exists only on a **DataFrame**.\n",
    "- Some methods/attributes will return different types of data.\n",
    "- The `info` method returns a summary of the pandas object."
   ]
  },
  {
   "cell_type": "code",
   "execution_count": 2,
   "id": "a0f61f9e-50bf-43e8-bcb5-15e7bbf35369",
   "metadata": {},
   "outputs": [
    {
     "data": {
      "text/html": [
       "<div>\n",
       "<style scoped>\n",
       "    .dataframe tbody tr th:only-of-type {\n",
       "        vertical-align: middle;\n",
       "    }\n",
       "\n",
       "    .dataframe tbody tr th {\n",
       "        vertical-align: top;\n",
       "    }\n",
       "\n",
       "    .dataframe thead th {\n",
       "        text-align: right;\n",
       "    }\n",
       "</style>\n",
       "<table border=\"1\" class=\"dataframe\">\n",
       "  <thead>\n",
       "    <tr style=\"text-align: right;\">\n",
       "      <th></th>\n",
       "      <th>Name</th>\n",
       "      <th>Team</th>\n",
       "      <th>Position</th>\n",
       "      <th>Height</th>\n",
       "      <th>Weight</th>\n",
       "      <th>College</th>\n",
       "      <th>Salary</th>\n",
       "    </tr>\n",
       "  </thead>\n",
       "  <tbody>\n",
       "    <tr>\n",
       "      <th>587</th>\n",
       "      <td>Ryan Rollins</td>\n",
       "      <td>Washington Wizards</td>\n",
       "      <td>G</td>\n",
       "      <td>6-3</td>\n",
       "      <td>180.0</td>\n",
       "      <td>Toledo</td>\n",
       "      <td>1719864.0</td>\n",
       "    </tr>\n",
       "    <tr>\n",
       "      <th>588</th>\n",
       "      <td>Landry Shamet</td>\n",
       "      <td>Washington Wizards</td>\n",
       "      <td>G</td>\n",
       "      <td>6-4</td>\n",
       "      <td>190.0</td>\n",
       "      <td>Wichita State</td>\n",
       "      <td>10250000.0</td>\n",
       "    </tr>\n",
       "    <tr>\n",
       "      <th>589</th>\n",
       "      <td>Tristan Vukcevic</td>\n",
       "      <td>Washington Wizards</td>\n",
       "      <td>F</td>\n",
       "      <td>6-10</td>\n",
       "      <td>220.0</td>\n",
       "      <td>Real Madrid</td>\n",
       "      <td>NaN</td>\n",
       "    </tr>\n",
       "    <tr>\n",
       "      <th>590</th>\n",
       "      <td>Delon Wright</td>\n",
       "      <td>Washington Wizards</td>\n",
       "      <td>G</td>\n",
       "      <td>6-5</td>\n",
       "      <td>185.0</td>\n",
       "      <td>Utah</td>\n",
       "      <td>8195122.0</td>\n",
       "    </tr>\n",
       "    <tr>\n",
       "      <th>591</th>\n",
       "      <td>NaN</td>\n",
       "      <td>NaN</td>\n",
       "      <td>NaN</td>\n",
       "      <td>NaN</td>\n",
       "      <td>NaN</td>\n",
       "      <td>NaN</td>\n",
       "      <td>NaN</td>\n",
       "    </tr>\n",
       "  </tbody>\n",
       "</table>\n",
       "</div>"
      ],
      "text/plain": [
       "                 Name                Team Position Height  Weight  \\\n",
       "587      Ryan Rollins  Washington Wizards        G    6-3   180.0   \n",
       "588     Landry Shamet  Washington Wizards        G    6-4   190.0   \n",
       "589  Tristan Vukcevic  Washington Wizards        F   6-10   220.0   \n",
       "590      Delon Wright  Washington Wizards        G    6-5   185.0   \n",
       "591               NaN                 NaN      NaN    NaN     NaN   \n",
       "\n",
       "           College      Salary  \n",
       "587         Toledo   1719864.0  \n",
       "588  Wichita State  10250000.0  \n",
       "589    Real Madrid         NaN  \n",
       "590           Utah   8195122.0  \n",
       "591            NaN         NaN  "
      ]
     },
     "execution_count": 2,
     "metadata": {},
     "output_type": "execute_result"
    }
   ],
   "source": [
    "nba = pd.read_csv(\"data_files/nba.csv\")\n",
    "\n",
    "\"\"\"\n",
    "NaN is used when a value isnt available or existent\n",
    "\n",
    "The very last column where it's all NaN is common issue, mostly when you\n",
    "are given old data or imperfect.\n",
    "\"\"\"\n",
    "\n",
    "nba.tail()"
   ]
  },
  {
   "cell_type": "code",
   "execution_count": 3,
   "id": "596e9443-20f1-479e-89c7-d80169a5a60f",
   "metadata": {},
   "outputs": [
    {
     "data": {
      "text/plain": [
       "RangeIndex(start=0, stop=592, step=1)"
      ]
     },
     "execution_count": 3,
     "metadata": {},
     "output_type": "execute_result"
    }
   ],
   "source": [
    "nba.values  # 2D arrays\n",
    "\n",
    "nba.index"
   ]
  },
  {
   "cell_type": "code",
   "execution_count": 4,
   "id": "ab3396a6-7c23-4e27-8738-91f209f6f610",
   "metadata": {},
   "outputs": [
    {
     "data": {
      "text/plain": [
       "(592, 7)"
      ]
     },
     "execution_count": 4,
     "metadata": {},
     "output_type": "execute_result"
    }
   ],
   "source": [
    "nba.shape\n",
    "# (rows, columns)"
   ]
  },
  {
   "cell_type": "code",
   "execution_count": 5,
   "id": "fdad99e0-2ff6-43e3-bebb-5543cb5e91a3",
   "metadata": {},
   "outputs": [
    {
     "data": {
      "text/plain": [
       "Name         object\n",
       "Team         object\n",
       "Position     object\n",
       "Height       object\n",
       "Weight      float64\n",
       "College      object\n",
       "Salary      float64\n",
       "dtype: object"
      ]
     },
     "execution_count": 5,
     "metadata": {},
     "output_type": "execute_result"
    }
   ],
   "source": [
    "# NOTE: Even if ONE item in a column is NaN, the entire column will\n",
    "#       be converted to a float.\n",
    "#       To change this, you must clean the data. For example NaN -> -9999\n",
    "\n",
    "nba.dtypes"
   ]
  },
  {
   "cell_type": "code",
   "execution_count": 6,
   "id": "02a7aa10-8161-4f5e-ad59-91f6f8266782",
   "metadata": {},
   "outputs": [
    {
     "data": {
      "text/plain": [
       "Index(['Name', 'Team', 'Position', 'Height', 'Weight', 'College', 'Salary'], dtype='object')"
      ]
     },
     "execution_count": 6,
     "metadata": {},
     "output_type": "execute_result"
    }
   ],
   "source": [
    "nba.columns"
   ]
  },
  {
   "cell_type": "code",
   "execution_count": 7,
   "id": "0916f365-76be-4cce-bc1e-4957edbc0f97",
   "metadata": {},
   "outputs": [
    {
     "data": {
      "text/plain": [
       "[RangeIndex(start=0, stop=592, step=1),\n",
       " Index(['Name', 'Team', 'Position', 'Height', 'Weight', 'College', 'Salary'], dtype='object')]"
      ]
     },
     "execution_count": 7,
     "metadata": {},
     "output_type": "execute_result"
    }
   ],
   "source": [
    "# This is basically like using .index and .columns\n",
    "# and having those outputs in a 2D list\n",
    "\n",
    "nba.axes"
   ]
  },
  {
   "cell_type": "code",
   "execution_count": 8,
   "id": "57ffa4ed-ec8a-4b81-81c3-e72324e514bd",
   "metadata": {},
   "outputs": [
    {
     "name": "stdout",
     "output_type": "stream",
     "text": [
      "<class 'pandas.core.frame.DataFrame'>\n",
      "RangeIndex: 592 entries, 0 to 591\n",
      "Data columns (total 7 columns):\n",
      " #   Column    Non-Null Count  Dtype  \n",
      "---  ------    --------------  -----  \n",
      " 0   Name      591 non-null    object \n",
      " 1   Team      591 non-null    object \n",
      " 2   Position  584 non-null    object \n",
      " 3   Height    585 non-null    object \n",
      " 4   Weight    584 non-null    float64\n",
      " 5   College   578 non-null    object \n",
      " 6   Salary    488 non-null    float64\n",
      "dtypes: float64(2), object(5)\n",
      "memory usage: 32.5+ KB\n"
     ]
    }
   ],
   "source": [
    "nba.info()"
   ]
  },
  {
   "cell_type": "markdown",
   "id": "8ba157d3-a62a-4fd4-89c6-875201558592",
   "metadata": {},
   "source": [
    "---"
   ]
  },
  {
   "cell_type": "markdown",
   "id": "62207b08",
   "metadata": {},
   "source": [
    "## Differences between Shared Methods\n",
    "- The `sum` method adds a **Series's** values.\n",
    "- On a **DataFrame**, the `sum` method defaults to adding the values by traversing the index (row values).\n",
    "- The `axis` parameter customizes the direction that we add across. Pass `\"columns\"` or `1` to add \"across\" the columns."
   ]
  },
  {
   "cell_type": "code",
   "execution_count": 9,
   "id": "04fb2051-2756-4f17-9672-faad84f290f3",
   "metadata": {},
   "outputs": [
    {
     "data": {
      "text/html": [
       "<div>\n",
       "<style scoped>\n",
       "    .dataframe tbody tr th:only-of-type {\n",
       "        vertical-align: middle;\n",
       "    }\n",
       "\n",
       "    .dataframe tbody tr th {\n",
       "        vertical-align: top;\n",
       "    }\n",
       "\n",
       "    .dataframe thead th {\n",
       "        text-align: right;\n",
       "    }\n",
       "</style>\n",
       "<table border=\"1\" class=\"dataframe\">\n",
       "  <thead>\n",
       "    <tr style=\"text-align: right;\">\n",
       "      <th></th>\n",
       "      <th>New York</th>\n",
       "      <th>Los Angeles</th>\n",
       "      <th>Miami</th>\n",
       "    </tr>\n",
       "    <tr>\n",
       "      <th>Date</th>\n",
       "      <th></th>\n",
       "      <th></th>\n",
       "      <th></th>\n",
       "    </tr>\n",
       "  </thead>\n",
       "  <tbody>\n",
       "    <tr>\n",
       "      <th>1/1/26</th>\n",
       "      <td>985</td>\n",
       "      <td>122</td>\n",
       "      <td>499</td>\n",
       "    </tr>\n",
       "    <tr>\n",
       "      <th>1/2/26</th>\n",
       "      <td>738</td>\n",
       "      <td>788</td>\n",
       "      <td>534</td>\n",
       "    </tr>\n",
       "    <tr>\n",
       "      <th>1/3/26</th>\n",
       "      <td>14</td>\n",
       "      <td>20</td>\n",
       "      <td>933</td>\n",
       "    </tr>\n",
       "    <tr>\n",
       "      <th>1/4/26</th>\n",
       "      <td>730</td>\n",
       "      <td>904</td>\n",
       "      <td>885</td>\n",
       "    </tr>\n",
       "    <tr>\n",
       "      <th>1/5/26</th>\n",
       "      <td>114</td>\n",
       "      <td>71</td>\n",
       "      <td>253</td>\n",
       "    </tr>\n",
       "  </tbody>\n",
       "</table>\n",
       "</div>"
      ],
      "text/plain": [
       "        New York  Los Angeles  Miami\n",
       "Date                                \n",
       "1/1/26       985          122    499\n",
       "1/2/26       738          788    534\n",
       "1/3/26        14           20    933\n",
       "1/4/26       730          904    885\n",
       "1/5/26       114           71    253"
      ]
     },
     "execution_count": 9,
     "metadata": {},
     "output_type": "execute_result"
    }
   ],
   "source": [
    "rev = pd.read_csv(\"data_files/revenue.csv\", index_col=\"Date\")\n",
    "\n",
    "rev.head()"
   ]
  },
  {
   "cell_type": "code",
   "execution_count": 10,
   "id": "583fc4c9-7d6d-4d88-a520-bc3433e442aa",
   "metadata": {},
   "outputs": [
    {
     "data": {
      "text/plain": [
       "New York       5475\n",
       "Los Angeles    5134\n",
       "Miami          5641\n",
       "dtype: int64"
      ]
     },
     "execution_count": 10,
     "metadata": {},
     "output_type": "execute_result"
    }
   ],
   "source": [
    "# By default you will get back a Series with the total number for the individual column(s)\n",
    "\n",
    "rev.sum()[\"New York\"]\n",
    "rev.sum()"
   ]
  },
  {
   "cell_type": "code",
   "execution_count": 11,
   "id": "463a501f-8af3-49e0-93a3-a35327fd3b73",
   "metadata": {},
   "outputs": [
    {
     "data": {
      "text/plain": [
       "Date\n",
       "1/1/26     1606\n",
       "1/2/26     2060\n",
       "1/3/26      967\n",
       "1/4/26     2519\n",
       "1/5/26      438\n",
       "1/6/26     1935\n",
       "1/7/26     1234\n",
       "1/8/26     2313\n",
       "1/9/26     2623\n",
       "1/10/26     555\n",
       "dtype: int64"
      ]
     },
     "execution_count": 11,
     "metadata": {},
     "output_type": "execute_result"
    }
   ],
   "source": [
    "rev.sum(axis=\"index\")  # Defualt\n",
    "\n",
    "rev.sum(axis=\"columns\")"
   ]
  },
  {
   "cell_type": "markdown",
   "id": "a31749ce-a1ce-4729-ae8a-a2df21bc9496",
   "metadata": {},
   "source": [
    "---"
   ]
  },
  {
   "cell_type": "markdown",
   "id": "b55398f0",
   "metadata": {},
   "source": [
    "## Select One Column from a DataFrame\n",
    "- We can use attribute syntax (`df.column_name`) to select a column from a DataFrame. **The syntax will not work if the column name has spaces.**\n",
    "- We can also use square bracket syntax (`df[\"column name\"]`) which will work for any column name.\n",
    "- Pandas extracts a column from a **DataFrame** as a **Series**.\n",
    "- The **Series** is a view, so changes to the **Series** *will* affect the **DataFrame**.\n",
    "- Pandas will display a warning if you mutate the **Series**. Use the `copy` method to create a duplicate."
   ]
  },
  {
   "cell_type": "code",
   "execution_count": 12,
   "id": "ecc04798-273e-4f5c-a6b6-4150c71c2a7a",
   "metadata": {},
   "outputs": [
    {
     "data": {
      "text/plain": [
       "Index(['Name', 'Team', 'Position', 'Height', 'Weight', 'College', 'Salary'], dtype='object')"
      ]
     },
     "execution_count": 12,
     "metadata": {},
     "output_type": "execute_result"
    }
   ],
   "source": [
    "nba.columns"
   ]
  },
  {
   "cell_type": "code",
   "execution_count": 13,
   "id": "95716d00-dcc4-44fe-9d38-39ab0a2ce782",
   "metadata": {},
   "outputs": [
    {
     "data": {
      "text/plain": [
       "0             Saddiq Bey\n",
       "1      Bogdan Bogdanovic\n",
       "2            Kobe Bufkin\n",
       "3           Clint Capela\n",
       "4         Bruno Fernando\n",
       "             ...        \n",
       "587         Ryan Rollins\n",
       "588        Landry Shamet\n",
       "589     Tristan Vukcevic\n",
       "590         Delon Wright\n",
       "591                  NaN\n",
       "Name: Name, Length: 592, dtype: object"
      ]
     },
     "execution_count": 13,
     "metadata": {},
     "output_type": "execute_result"
    }
   ],
   "source": [
    "nba.Team\n",
    "nba.Height\n",
    "nba.Salary\n",
    "nba.Name"
   ]
  },
  {
   "cell_type": "code",
   "execution_count": 14,
   "id": "5be97bda-a164-4435-a662-7c241b1de4d6",
   "metadata": {},
   "outputs": [
    {
     "data": {
      "text/plain": [
       "0             Saddiq Bey\n",
       "1      Bogdan Bogdanovic\n",
       "2            Kobe Bufkin\n",
       "3           Clint Capela\n",
       "4         Bruno Fernando\n",
       "             ...        \n",
       "587         Ryan Rollins\n",
       "588        Landry Shamet\n",
       "589     Tristan Vukcevic\n",
       "590         Delon Wright\n",
       "591                  NaN\n",
       "Name: Name, Length: 592, dtype: object"
      ]
     },
     "execution_count": 14,
     "metadata": {},
     "output_type": "execute_result"
    }
   ],
   "source": [
    "nba[\"Team\"]\n",
    "nba[\"Salary\"]\n",
    "nba[\"Height\"]\n",
    "nba[\"Name\"]"
   ]
  },
  {
   "cell_type": "markdown",
   "id": "29daab1e-607b-4b8a-b890-c968fe4e20d5",
   "metadata": {},
   "source": [
    "### Editing a view"
   ]
  },
  {
   "cell_type": "code",
   "execution_count": 15,
   "id": "572b9d22-8105-4246-9f35-306d5357da86",
   "metadata": {},
   "outputs": [
    {
     "name": "stderr",
     "output_type": "stream",
     "text": [
      "/tmp/ipykernel_19920/1442135559.py:5: SettingWithCopyWarning: \n",
      "A value is trying to be set on a copy of a slice from a DataFrame\n",
      "\n",
      "See the caveats in the documentation: https://pandas.pydata.org/pandas-docs/stable/user_guide/indexing.html#returning-a-view-versus-a-copy\n",
      "  nba[\"Name\"].iloc[0] = \"New Name\"\n"
     ]
    }
   ],
   "source": [
    "# NOTE: This syntax is a view, meaning any changes made will be made to the df.\n",
    "# You will get a warning. This is normal because you are editing a view.\n",
    "# To remove this you will need to create a copy.\n",
    "\n",
    "nba[\"Name\"].iloc[0] = \"New Name\""
   ]
  },
  {
   "cell_type": "code",
   "execution_count": 16,
   "id": "a3c83066-dbb5-4fea-85c0-f96ae33cb106",
   "metadata": {},
   "outputs": [
    {
     "data": {
      "text/plain": [
       "0             New Name\n",
       "1    Bogdan Bogdanovic\n",
       "2          Kobe Bufkin\n",
       "Name: Name, dtype: object"
      ]
     },
     "execution_count": 16,
     "metadata": {},
     "output_type": "execute_result"
    }
   ],
   "source": [
    "nba[\"Name\"].head(3)"
   ]
  },
  {
   "cell_type": "markdown",
   "id": "11b57030-ebbb-4b8a-bf6e-995210f65c80",
   "metadata": {},
   "source": [
    "### Creating a copy"
   ]
  },
  {
   "cell_type": "code",
   "execution_count": 17,
   "id": "5eb8fb06-8ffc-4492-8d0f-d4912ae9e0af",
   "metadata": {},
   "outputs": [],
   "source": [
    "names = nba[\"Name\"].copy()"
   ]
  },
  {
   "cell_type": "code",
   "execution_count": 18,
   "id": "659e7912-76fa-457d-a8b2-a5911d837fae",
   "metadata": {},
   "outputs": [],
   "source": [
    "names.iloc[0] = \"We have changed the copy, not the view\""
   ]
  },
  {
   "cell_type": "code",
   "execution_count": 19,
   "id": "b5772ac4-2470-4113-a0b8-9c0046ba4c3a",
   "metadata": {},
   "outputs": [
    {
     "data": {
      "text/plain": [
       "0    We have changed the copy, not the view\n",
       "1                         Bogdan Bogdanovic\n",
       "2                               Kobe Bufkin\n",
       "Name: Name, dtype: object"
      ]
     },
     "execution_count": 19,
     "metadata": {},
     "output_type": "execute_result"
    }
   ],
   "source": [
    "names.head(3)"
   ]
  },
  {
   "cell_type": "code",
   "execution_count": 20,
   "id": "a6047e42-dc53-434e-9cc6-63ce799b35ba",
   "metadata": {},
   "outputs": [
    {
     "data": {
      "text/plain": [
       "0             New Name\n",
       "1    Bogdan Bogdanovic\n",
       "2          Kobe Bufkin\n",
       "Name: Name, dtype: object"
      ]
     },
     "execution_count": 20,
     "metadata": {},
     "output_type": "execute_result"
    }
   ],
   "source": [
    "nba[\"Name\"].head(3)"
   ]
  },
  {
   "cell_type": "markdown",
   "id": "0a793826-5336-45e1-9251-68b0ccee7dbc",
   "metadata": {},
   "source": [
    "---"
   ]
  },
  {
   "cell_type": "markdown",
   "id": "771e31d7",
   "metadata": {},
   "source": [
    "## Select Multiple Columns from a DataFrame\n",
    "- Use square brackets with a list of names to extract multiple **DataFrame** columns.\n",
    "- Pandas stores the result in a new **DataFrame** (a copy)."
   ]
  },
  {
   "cell_type": "code",
   "execution_count": 21,
   "id": "46886e4d-002e-432c-bbd6-4365c56882b3",
   "metadata": {},
   "outputs": [
    {
     "data": {
      "text/html": [
       "<div>\n",
       "<style scoped>\n",
       "    .dataframe tbody tr th:only-of-type {\n",
       "        vertical-align: middle;\n",
       "    }\n",
       "\n",
       "    .dataframe tbody tr th {\n",
       "        vertical-align: top;\n",
       "    }\n",
       "\n",
       "    .dataframe thead th {\n",
       "        text-align: right;\n",
       "    }\n",
       "</style>\n",
       "<table border=\"1\" class=\"dataframe\">\n",
       "  <thead>\n",
       "    <tr style=\"text-align: right;\">\n",
       "      <th></th>\n",
       "      <th>Name</th>\n",
       "      <th>Team</th>\n",
       "      <th>College</th>\n",
       "    </tr>\n",
       "  </thead>\n",
       "  <tbody>\n",
       "    <tr>\n",
       "      <th>0</th>\n",
       "      <td>New Name</td>\n",
       "      <td>Atlanta Hawks</td>\n",
       "      <td>Villanova</td>\n",
       "    </tr>\n",
       "    <tr>\n",
       "      <th>1</th>\n",
       "      <td>Bogdan Bogdanovic</td>\n",
       "      <td>Atlanta Hawks</td>\n",
       "      <td>Fenerbahce</td>\n",
       "    </tr>\n",
       "    <tr>\n",
       "      <th>2</th>\n",
       "      <td>Kobe Bufkin</td>\n",
       "      <td>Atlanta Hawks</td>\n",
       "      <td>Michigan</td>\n",
       "    </tr>\n",
       "    <tr>\n",
       "      <th>3</th>\n",
       "      <td>Clint Capela</td>\n",
       "      <td>Atlanta Hawks</td>\n",
       "      <td>Elan Chalon</td>\n",
       "    </tr>\n",
       "    <tr>\n",
       "      <th>4</th>\n",
       "      <td>Bruno Fernando</td>\n",
       "      <td>Atlanta Hawks</td>\n",
       "      <td>Maryland</td>\n",
       "    </tr>\n",
       "  </tbody>\n",
       "</table>\n",
       "</div>"
      ],
      "text/plain": [
       "                Name           Team      College\n",
       "0           New Name  Atlanta Hawks    Villanova\n",
       "1  Bogdan Bogdanovic  Atlanta Hawks   Fenerbahce\n",
       "2        Kobe Bufkin  Atlanta Hawks     Michigan\n",
       "3       Clint Capela  Atlanta Hawks  Elan Chalon\n",
       "4     Bruno Fernando  Atlanta Hawks     Maryland"
      ]
     },
     "execution_count": 21,
     "metadata": {},
     "output_type": "execute_result"
    }
   ],
   "source": [
    "nba[ [\"Name\", \"Team\", \"College\"] ].head()"
   ]
  },
  {
   "cell_type": "markdown",
   "id": "3dee563a-9b82-4c8a-b4e9-3ba85930cb68",
   "metadata": {},
   "source": [
    "---"
   ]
  },
  {
   "cell_type": "markdown",
   "id": "7a5e932e",
   "metadata": {},
   "source": [
    "## Add New Column to DataFrame\n",
    "- Use square bracket extraction syntax with an equal sign to add a new **Series** to a **DataFrame**.\n",
    "- The `insert` method allows us to insert an element at a specific column index.\n",
    "- On the right-hand side, we can reference an existing **DataFrame** column and perform a broadcasting operation on it to create the new **Series**."
   ]
  },
  {
   "cell_type": "code",
   "execution_count": 22,
   "id": "14418ecb-5a16-4dd1-83cc-19cdd533f421",
   "metadata": {},
   "outputs": [],
   "source": [
    "nba = pd.read_csv(\"data_files/nba.csv\")\n",
    "\n",
    "# nba[\"Sport\"] = \"Basketball\"\n",
    "\n",
    "# loc (location) is the index of the column of where we will insert the data.\n",
    "# In this case \"Name\" would be index 0, \"Team\" index 1, etc.\n",
    "# This new column will NOT replace the existing column, it will just\n",
    "# push all the other columns to the right.\n",
    "\n",
    "# column is the name of the new column.\n",
    "\n",
    "# value is the data\n",
    "\n",
    "nba.insert(loc=3, column=\"Sport\", value=\"Basketball\")"
   ]
  },
  {
   "cell_type": "code",
   "execution_count": 23,
   "id": "c66ca9b8-5989-48c8-bda2-0946f0ef27ba",
   "metadata": {},
   "outputs": [
    {
     "data": {
      "text/html": [
       "<div>\n",
       "<style scoped>\n",
       "    .dataframe tbody tr th:only-of-type {\n",
       "        vertical-align: middle;\n",
       "    }\n",
       "\n",
       "    .dataframe tbody tr th {\n",
       "        vertical-align: top;\n",
       "    }\n",
       "\n",
       "    .dataframe thead th {\n",
       "        text-align: right;\n",
       "    }\n",
       "</style>\n",
       "<table border=\"1\" class=\"dataframe\">\n",
       "  <thead>\n",
       "    <tr style=\"text-align: right;\">\n",
       "      <th></th>\n",
       "      <th>Name</th>\n",
       "      <th>Team</th>\n",
       "      <th>Position</th>\n",
       "      <th>Sport</th>\n",
       "      <th>Height</th>\n",
       "      <th>Weight</th>\n",
       "      <th>College</th>\n",
       "      <th>Salary</th>\n",
       "    </tr>\n",
       "  </thead>\n",
       "  <tbody>\n",
       "    <tr>\n",
       "      <th>587</th>\n",
       "      <td>Ryan Rollins</td>\n",
       "      <td>Washington Wizards</td>\n",
       "      <td>G</td>\n",
       "      <td>Basketball</td>\n",
       "      <td>6-3</td>\n",
       "      <td>180.0</td>\n",
       "      <td>Toledo</td>\n",
       "      <td>1719864.0</td>\n",
       "    </tr>\n",
       "    <tr>\n",
       "      <th>588</th>\n",
       "      <td>Landry Shamet</td>\n",
       "      <td>Washington Wizards</td>\n",
       "      <td>G</td>\n",
       "      <td>Basketball</td>\n",
       "      <td>6-4</td>\n",
       "      <td>190.0</td>\n",
       "      <td>Wichita State</td>\n",
       "      <td>10250000.0</td>\n",
       "    </tr>\n",
       "    <tr>\n",
       "      <th>589</th>\n",
       "      <td>Tristan Vukcevic</td>\n",
       "      <td>Washington Wizards</td>\n",
       "      <td>F</td>\n",
       "      <td>Basketball</td>\n",
       "      <td>6-10</td>\n",
       "      <td>220.0</td>\n",
       "      <td>Real Madrid</td>\n",
       "      <td>NaN</td>\n",
       "    </tr>\n",
       "    <tr>\n",
       "      <th>590</th>\n",
       "      <td>Delon Wright</td>\n",
       "      <td>Washington Wizards</td>\n",
       "      <td>G</td>\n",
       "      <td>Basketball</td>\n",
       "      <td>6-5</td>\n",
       "      <td>185.0</td>\n",
       "      <td>Utah</td>\n",
       "      <td>8195122.0</td>\n",
       "    </tr>\n",
       "    <tr>\n",
       "      <th>591</th>\n",
       "      <td>NaN</td>\n",
       "      <td>NaN</td>\n",
       "      <td>NaN</td>\n",
       "      <td>Basketball</td>\n",
       "      <td>NaN</td>\n",
       "      <td>NaN</td>\n",
       "      <td>NaN</td>\n",
       "      <td>NaN</td>\n",
       "    </tr>\n",
       "  </tbody>\n",
       "</table>\n",
       "</div>"
      ],
      "text/plain": [
       "                 Name                Team Position       Sport Height  Weight  \\\n",
       "587      Ryan Rollins  Washington Wizards        G  Basketball    6-3   180.0   \n",
       "588     Landry Shamet  Washington Wizards        G  Basketball    6-4   190.0   \n",
       "589  Tristan Vukcevic  Washington Wizards        F  Basketball   6-10   220.0   \n",
       "590      Delon Wright  Washington Wizards        G  Basketball    6-5   185.0   \n",
       "591               NaN                 NaN      NaN  Basketball    NaN     NaN   \n",
       "\n",
       "           College      Salary  \n",
       "587         Toledo   1719864.0  \n",
       "588  Wichita State  10250000.0  \n",
       "589    Real Madrid         NaN  \n",
       "590           Utah   8195122.0  \n",
       "591            NaN         NaN  "
      ]
     },
     "execution_count": 23,
     "metadata": {},
     "output_type": "execute_result"
    }
   ],
   "source": [
    "nba.tail()"
   ]
  },
  {
   "cell_type": "code",
   "execution_count": 24,
   "id": "7471cc75-63aa-40f1-8cf0-2690c5376d23",
   "metadata": {
    "scrolled": true
   },
   "outputs": [],
   "source": [
    "def pay_per_pound(salary, weight):\n",
    "    \"\"\" Calc how much money they make per pound of body weight \"\"\"\n",
    "    return round(salary / weight)"
   ]
  },
  {
   "cell_type": "code",
   "execution_count": 25,
   "id": "decd61b6-ad7c-4862-bf6f-d35017be53f9",
   "metadata": {},
   "outputs": [],
   "source": [
    "nba[\"Pay per pound\"] = pay_per_pound(nba[\"Salary\"], nba[\"Weight\"])"
   ]
  },
  {
   "cell_type": "code",
   "execution_count": 26,
   "id": "964db4fe-194c-43d0-836a-88fd261bef20",
   "metadata": {},
   "outputs": [
    {
     "data": {
      "text/html": [
       "<div>\n",
       "<style scoped>\n",
       "    .dataframe tbody tr th:only-of-type {\n",
       "        vertical-align: middle;\n",
       "    }\n",
       "\n",
       "    .dataframe tbody tr th {\n",
       "        vertical-align: top;\n",
       "    }\n",
       "\n",
       "    .dataframe thead th {\n",
       "        text-align: right;\n",
       "    }\n",
       "</style>\n",
       "<table border=\"1\" class=\"dataframe\">\n",
       "  <thead>\n",
       "    <tr style=\"text-align: right;\">\n",
       "      <th></th>\n",
       "      <th>Name</th>\n",
       "      <th>Team</th>\n",
       "      <th>Position</th>\n",
       "      <th>Sport</th>\n",
       "      <th>Height</th>\n",
       "      <th>Weight</th>\n",
       "      <th>College</th>\n",
       "      <th>Salary</th>\n",
       "      <th>Pay per pound</th>\n",
       "    </tr>\n",
       "  </thead>\n",
       "  <tbody>\n",
       "    <tr>\n",
       "      <th>0</th>\n",
       "      <td>Saddiq Bey</td>\n",
       "      <td>Atlanta Hawks</td>\n",
       "      <td>F</td>\n",
       "      <td>Basketball</td>\n",
       "      <td>6-7</td>\n",
       "      <td>215.0</td>\n",
       "      <td>Villanova</td>\n",
       "      <td>4556983.0</td>\n",
       "      <td>21195.0</td>\n",
       "    </tr>\n",
       "    <tr>\n",
       "      <th>1</th>\n",
       "      <td>Bogdan Bogdanovic</td>\n",
       "      <td>Atlanta Hawks</td>\n",
       "      <td>G</td>\n",
       "      <td>Basketball</td>\n",
       "      <td>6-5</td>\n",
       "      <td>225.0</td>\n",
       "      <td>Fenerbahce</td>\n",
       "      <td>18700000.0</td>\n",
       "      <td>83111.0</td>\n",
       "    </tr>\n",
       "    <tr>\n",
       "      <th>2</th>\n",
       "      <td>Kobe Bufkin</td>\n",
       "      <td>Atlanta Hawks</td>\n",
       "      <td>G</td>\n",
       "      <td>Basketball</td>\n",
       "      <td>6-5</td>\n",
       "      <td>195.0</td>\n",
       "      <td>Michigan</td>\n",
       "      <td>4094244.0</td>\n",
       "      <td>20996.0</td>\n",
       "    </tr>\n",
       "    <tr>\n",
       "      <th>3</th>\n",
       "      <td>Clint Capela</td>\n",
       "      <td>Atlanta Hawks</td>\n",
       "      <td>C</td>\n",
       "      <td>Basketball</td>\n",
       "      <td>6-10</td>\n",
       "      <td>256.0</td>\n",
       "      <td>Elan Chalon</td>\n",
       "      <td>20616000.0</td>\n",
       "      <td>80531.0</td>\n",
       "    </tr>\n",
       "    <tr>\n",
       "      <th>4</th>\n",
       "      <td>Bruno Fernando</td>\n",
       "      <td>Atlanta Hawks</td>\n",
       "      <td>F-C</td>\n",
       "      <td>Basketball</td>\n",
       "      <td>6-10</td>\n",
       "      <td>240.0</td>\n",
       "      <td>Maryland</td>\n",
       "      <td>2581522.0</td>\n",
       "      <td>10756.0</td>\n",
       "    </tr>\n",
       "  </tbody>\n",
       "</table>\n",
       "</div>"
      ],
      "text/plain": [
       "                Name           Team Position       Sport Height  Weight  \\\n",
       "0         Saddiq Bey  Atlanta Hawks        F  Basketball    6-7   215.0   \n",
       "1  Bogdan Bogdanovic  Atlanta Hawks        G  Basketball    6-5   225.0   \n",
       "2        Kobe Bufkin  Atlanta Hawks        G  Basketball    6-5   195.0   \n",
       "3       Clint Capela  Atlanta Hawks        C  Basketball   6-10   256.0   \n",
       "4     Bruno Fernando  Atlanta Hawks      F-C  Basketball   6-10   240.0   \n",
       "\n",
       "       College      Salary  Pay per pound  \n",
       "0    Villanova   4556983.0        21195.0  \n",
       "1   Fenerbahce  18700000.0        83111.0  \n",
       "2     Michigan   4094244.0        20996.0  \n",
       "3  Elan Chalon  20616000.0        80531.0  \n",
       "4     Maryland   2581522.0        10756.0  "
      ]
     },
     "execution_count": 26,
     "metadata": {},
     "output_type": "execute_result"
    }
   ],
   "source": [
    "nba.head()"
   ]
  },
  {
   "cell_type": "markdown",
   "id": "cd41774d-b420-47c9-b85d-eb839ea58e94",
   "metadata": {},
   "source": [
    "---"
   ]
  },
  {
   "cell_type": "markdown",
   "id": "d98d7a8c",
   "metadata": {},
   "source": [
    "## A Review of the value_counts Method\n",
    "- The `value_counts` method counts the number of times that each unique value occurs in a **Series**."
   ]
  },
  {
   "cell_type": "code",
   "execution_count": 27,
   "id": "20b6a7fd-deb2-4095-a09f-3ab98aaed441",
   "metadata": {},
   "outputs": [
    {
     "data": {
      "text/plain": [
       "Team\n",
       "Dallas Mavericks     23\n",
       "Denver Nuggets       22\n",
       "Miami Heat           22\n",
       "Milwaukee Bucks      22\n",
       "Memphis Grizzlies    22\n",
       "Name: count, dtype: int64"
      ]
     },
     "execution_count": 27,
     "metadata": {},
     "output_type": "execute_result"
    }
   ],
   "source": [
    "nba[\"Team\"].value_counts().head()"
   ]
  },
  {
   "cell_type": "code",
   "execution_count": 28,
   "id": "04702b40-777a-4da3-84d0-bc5709eb269d",
   "metadata": {},
   "outputs": [
    {
     "data": {
      "text/plain": [
       "Position\n",
       "G      39.21\n",
       "F      32.02\n",
       "C       8.05\n",
       "G-F     7.88\n",
       "F-C     6.34\n",
       "C-F     3.94\n",
       "F-G     2.57\n",
       "Name: proportion, dtype: float64"
      ]
     },
     "execution_count": 28,
     "metadata": {},
     "output_type": "execute_result"
    }
   ],
   "source": [
    "# Setting normalize to true gives you a precentage value,\n",
    "# then multiply by 100 to get the the real percent\n",
    "nba_position = nba[\"Position\"].value_counts(normalize=True).mul(100)\n",
    "\n",
    "round(nba_position, 2)"
   ]
  },
  {
   "cell_type": "code",
   "execution_count": 29,
   "id": "67c47054-7194-4ebf-b60b-b9f7d31bade1",
   "metadata": {},
   "outputs": [
    {
     "data": {
      "text/plain": [
       "Salary\n",
       "559782.0      59\n",
       "1119563.0     27\n",
       "3196448.0     13\n",
       "2019706.0      9\n",
       "1719864.0      8\n",
       "              ..\n",
       "12119440.0     1\n",
       "7977420.0      1\n",
       "5266713.0      1\n",
       "2624028.0      1\n",
       "3918480.0      1\n",
       "Name: count, Length: 298, dtype: int64"
      ]
     },
     "execution_count": 29,
     "metadata": {},
     "output_type": "execute_result"
    }
   ],
   "source": [
    "nba[\"Salary\"].value_counts()"
   ]
  },
  {
   "cell_type": "markdown",
   "id": "9a10bcaf-8007-4471-9da7-0a9f862b07cc",
   "metadata": {},
   "source": [
    "---"
   ]
  },
  {
   "cell_type": "markdown",
   "id": "695a7ffa",
   "metadata": {},
   "source": [
    "## Drop Rows with Missing Values\n",
    "- Pandas uses a `NaN` designation for cells that have a missing value.\n",
    "- The `dropna` method deletes rows with missing values. Its default behavior is to remove a row if it has *any* missing values.\n",
    "- Pass the `how` parameter an argument of \"all\" to delete rows where all the values are `NaN`.\n",
    "- The `subset` parameters customizes/limits the columns that pandas will use to drop rows with missing values."
   ]
  },
  {
   "cell_type": "code",
   "execution_count": 30,
   "id": "7b222e00-728a-47ee-920e-f9388be4a17b",
   "metadata": {},
   "outputs": [
    {
     "data": {
      "text/html": [
       "<div>\n",
       "<style scoped>\n",
       "    .dataframe tbody tr th:only-of-type {\n",
       "        vertical-align: middle;\n",
       "    }\n",
       "\n",
       "    .dataframe tbody tr th {\n",
       "        vertical-align: top;\n",
       "    }\n",
       "\n",
       "    .dataframe thead th {\n",
       "        text-align: right;\n",
       "    }\n",
       "</style>\n",
       "<table border=\"1\" class=\"dataframe\">\n",
       "  <thead>\n",
       "    <tr style=\"text-align: right;\">\n",
       "      <th></th>\n",
       "      <th>Name</th>\n",
       "      <th>Team</th>\n",
       "      <th>Position</th>\n",
       "      <th>Sport</th>\n",
       "      <th>Height</th>\n",
       "      <th>Weight</th>\n",
       "      <th>College</th>\n",
       "      <th>Salary</th>\n",
       "      <th>Pay per pound</th>\n",
       "    </tr>\n",
       "  </thead>\n",
       "  <tbody>\n",
       "    <tr>\n",
       "      <th>590</th>\n",
       "      <td>Delon Wright</td>\n",
       "      <td>Washington Wizards</td>\n",
       "      <td>G</td>\n",
       "      <td>Basketball</td>\n",
       "      <td>6-5</td>\n",
       "      <td>185.0</td>\n",
       "      <td>Utah</td>\n",
       "      <td>8195122.0</td>\n",
       "      <td>44298.0</td>\n",
       "    </tr>\n",
       "    <tr>\n",
       "      <th>591</th>\n",
       "      <td>NaN</td>\n",
       "      <td>NaN</td>\n",
       "      <td>NaN</td>\n",
       "      <td>Basketball</td>\n",
       "      <td>NaN</td>\n",
       "      <td>NaN</td>\n",
       "      <td>NaN</td>\n",
       "      <td>NaN</td>\n",
       "      <td>NaN</td>\n",
       "    </tr>\n",
       "  </tbody>\n",
       "</table>\n",
       "</div>"
      ],
      "text/plain": [
       "             Name                Team Position       Sport Height  Weight  \\\n",
       "590  Delon Wright  Washington Wizards        G  Basketball    6-5   185.0   \n",
       "591           NaN                 NaN      NaN  Basketball    NaN     NaN   \n",
       "\n",
       "    College     Salary  Pay per pound  \n",
       "590    Utah  8195122.0        44298.0  \n",
       "591     NaN        NaN            NaN  "
      ]
     },
     "execution_count": 30,
     "metadata": {},
     "output_type": "execute_result"
    }
   ],
   "source": [
    "nba.tail(2)"
   ]
  },
  {
   "cell_type": "code",
   "execution_count": 31,
   "id": "541d51d1-9c34-4b8a-b65a-b7f736b951f4",
   "metadata": {},
   "outputs": [
    {
     "data": {
      "text/html": [
       "<div>\n",
       "<style scoped>\n",
       "    .dataframe tbody tr th:only-of-type {\n",
       "        vertical-align: middle;\n",
       "    }\n",
       "\n",
       "    .dataframe tbody tr th {\n",
       "        vertical-align: top;\n",
       "    }\n",
       "\n",
       "    .dataframe thead th {\n",
       "        text-align: right;\n",
       "    }\n",
       "</style>\n",
       "<table border=\"1\" class=\"dataframe\">\n",
       "  <thead>\n",
       "    <tr style=\"text-align: right;\">\n",
       "      <th></th>\n",
       "      <th>Name</th>\n",
       "      <th>Team</th>\n",
       "      <th>Position</th>\n",
       "      <th>Sport</th>\n",
       "      <th>Height</th>\n",
       "      <th>Weight</th>\n",
       "      <th>College</th>\n",
       "      <th>Salary</th>\n",
       "      <th>Pay per pound</th>\n",
       "    </tr>\n",
       "  </thead>\n",
       "  <tbody>\n",
       "    <tr>\n",
       "      <th>588</th>\n",
       "      <td>Landry Shamet</td>\n",
       "      <td>Washington Wizards</td>\n",
       "      <td>G</td>\n",
       "      <td>Basketball</td>\n",
       "      <td>6-4</td>\n",
       "      <td>190.0</td>\n",
       "      <td>Wichita State</td>\n",
       "      <td>10250000.0</td>\n",
       "      <td>53947.0</td>\n",
       "    </tr>\n",
       "    <tr>\n",
       "      <th>590</th>\n",
       "      <td>Delon Wright</td>\n",
       "      <td>Washington Wizards</td>\n",
       "      <td>G</td>\n",
       "      <td>Basketball</td>\n",
       "      <td>6-5</td>\n",
       "      <td>185.0</td>\n",
       "      <td>Utah</td>\n",
       "      <td>8195122.0</td>\n",
       "      <td>44298.0</td>\n",
       "    </tr>\n",
       "  </tbody>\n",
       "</table>\n",
       "</div>"
      ],
      "text/plain": [
       "              Name                Team Position       Sport Height  Weight  \\\n",
       "588  Landry Shamet  Washington Wizards        G  Basketball    6-4   190.0   \n",
       "590   Delon Wright  Washington Wizards        G  Basketball    6-5   185.0   \n",
       "\n",
       "           College      Salary  Pay per pound  \n",
       "588  Wichita State  10250000.0        53947.0  \n",
       "590           Utah   8195122.0        44298.0  "
      ]
     },
     "execution_count": 31,
     "metadata": {},
     "output_type": "execute_result"
    }
   ],
   "source": [
    "# This will drop the whole row if ANY data on any column is mising\n",
    "\n",
    "nba.dropna().tail(2)"
   ]
  },
  {
   "cell_type": "code",
   "execution_count": 32,
   "id": "08ec7d63-8bcb-46f8-aa30-b2e04e93e8c3",
   "metadata": {},
   "outputs": [
    {
     "data": {
      "text/html": [
       "<div>\n",
       "<style scoped>\n",
       "    .dataframe tbody tr th:only-of-type {\n",
       "        vertical-align: middle;\n",
       "    }\n",
       "\n",
       "    .dataframe tbody tr th {\n",
       "        vertical-align: top;\n",
       "    }\n",
       "\n",
       "    .dataframe thead th {\n",
       "        text-align: right;\n",
       "    }\n",
       "</style>\n",
       "<table border=\"1\" class=\"dataframe\">\n",
       "  <thead>\n",
       "    <tr style=\"text-align: right;\">\n",
       "      <th></th>\n",
       "      <th>Name</th>\n",
       "      <th>Team</th>\n",
       "      <th>Position</th>\n",
       "      <th>Sport</th>\n",
       "      <th>Height</th>\n",
       "      <th>Weight</th>\n",
       "      <th>College</th>\n",
       "      <th>Salary</th>\n",
       "      <th>Pay per pound</th>\n",
       "    </tr>\n",
       "  </thead>\n",
       "  <tbody>\n",
       "    <tr>\n",
       "      <th>588</th>\n",
       "      <td>Landry Shamet</td>\n",
       "      <td>Washington Wizards</td>\n",
       "      <td>G</td>\n",
       "      <td>Basketball</td>\n",
       "      <td>6-4</td>\n",
       "      <td>190.0</td>\n",
       "      <td>Wichita State</td>\n",
       "      <td>10250000.0</td>\n",
       "      <td>53947.0</td>\n",
       "    </tr>\n",
       "    <tr>\n",
       "      <th>589</th>\n",
       "      <td>Tristan Vukcevic</td>\n",
       "      <td>Washington Wizards</td>\n",
       "      <td>F</td>\n",
       "      <td>Basketball</td>\n",
       "      <td>6-10</td>\n",
       "      <td>220.0</td>\n",
       "      <td>Real Madrid</td>\n",
       "      <td>NaN</td>\n",
       "      <td>NaN</td>\n",
       "    </tr>\n",
       "    <tr>\n",
       "      <th>590</th>\n",
       "      <td>Delon Wright</td>\n",
       "      <td>Washington Wizards</td>\n",
       "      <td>G</td>\n",
       "      <td>Basketball</td>\n",
       "      <td>6-5</td>\n",
       "      <td>185.0</td>\n",
       "      <td>Utah</td>\n",
       "      <td>8195122.0</td>\n",
       "      <td>44298.0</td>\n",
       "    </tr>\n",
       "  </tbody>\n",
       "</table>\n",
       "</div>"
      ],
      "text/plain": [
       "                 Name                Team Position       Sport Height  Weight  \\\n",
       "588     Landry Shamet  Washington Wizards        G  Basketball    6-4   190.0   \n",
       "589  Tristan Vukcevic  Washington Wizards        F  Basketball   6-10   220.0   \n",
       "590      Delon Wright  Washington Wizards        G  Basketball    6-5   185.0   \n",
       "\n",
       "           College      Salary  Pay per pound  \n",
       "588  Wichita State  10250000.0        53947.0  \n",
       "589    Real Madrid         NaN            NaN  \n",
       "590           Utah   8195122.0        44298.0  "
      ]
     },
     "execution_count": 32,
     "metadata": {},
     "output_type": "execute_result"
    }
   ],
   "source": [
    "# Ignore this code, this is to fix the last row's values\n",
    "import numpy\n",
    "nba.loc[591, \"Sport\"] = numpy.nan\n",
    "\n",
    "\n",
    "\n",
    "# This will only drop the row if ALL the data is missing\n",
    "nba.dropna(how=\"all\").tail(3)"
   ]
  },
  {
   "cell_type": "code",
   "execution_count": 33,
   "id": "c80c2d4f-c7c0-4f8e-be27-aac2f183c96a",
   "metadata": {},
   "outputs": [
    {
     "data": {
      "text/plain": [
       "476"
      ]
     },
     "execution_count": 33,
     "metadata": {},
     "output_type": "execute_result"
    }
   ],
   "source": [
    "# Subset is a list of column names that pandas will search within.\n",
    "\n",
    "# In other words, the code below will drop any rows that have a NaN value\n",
    "# inside the College OR Salary column.\n",
    "# NOTE: You MUST assign to a new variable OR use inplace=True to change the original df\n",
    "nba_copy = nba.dropna(subset=[\"College\", \"Salary\"])\n",
    "\n",
    "len(nba)  # 592\n",
    "len(nba_copy)  # 476"
   ]
  },
  {
   "cell_type": "markdown",
   "id": "e2e54de7-55da-43e9-8e4f-c2836f6d0cd1",
   "metadata": {},
   "source": [
    "---"
   ]
  },
  {
   "cell_type": "markdown",
   "id": "8d33a3d7",
   "metadata": {},
   "source": [
    "## Fill in Missing Values with the fillna Method\n",
    "- The `fillna` method replaces missing `NaN` values with its argument.\n",
    "- The `fillna` method is available on both **DataFrames** and **Series**.\n",
    "- An extracted **Series** is a view on the original **DataFrame**, but the `fillna` method returns a copy."
   ]
  },
  {
   "cell_type": "code",
   "execution_count": 34,
   "id": "6d087355-37b8-4348-a223-b0ae4435162e",
   "metadata": {},
   "outputs": [],
   "source": [
    "nba.dropna(how=\"all\", inplace=True)"
   ]
  },
  {
   "cell_type": "code",
   "execution_count": 37,
   "id": "74f0392f-eb9e-4306-82f6-862311030faa",
   "metadata": {},
   "outputs": [],
   "source": [
    "# Every sinlge NaN will be filled with 0\n",
    "nba.fillna(0).tail(3)\n",
    "\n",
    "# To target a specific column, use the simple code below.\n",
    "# NOTE: This use of fillna will return a COPY\n",
    "# So you will need to overwrite the data with the new Series\n",
    "no_na_salary = nba[\"Salary\"].fillna(0)\n",
    "nba[\"Salary\"] = no_na_salary\n",
    "\n",
    "no_college = nba[\"College\"].fillna(\"unknown\")\n",
    "nba[\"College\"] = no_college"
   ]
  },
  {
   "cell_type": "markdown",
   "id": "0adab57c-2348-483c-b3e0-96e426260dba",
   "metadata": {},
   "source": [
    "---"
   ]
  },
  {
   "cell_type": "markdown",
   "id": "bc7be33b",
   "metadata": {},
   "source": [
    "## The astype Method I\n",
    "- The `astype` method converts a **Series's** values to a specified type.\n",
    "- Pass in the specified type as either a string or the core Python data type.\n",
    "- Pandas cannot convert `NaN` values to numeric types, so we need to eliminate/replace them before we perform the conversion.\n",
    "- The `dtypes` attribute returns a **Series** with the **DataFrame's** columns and their types."
   ]
  },
  {
   "cell_type": "code",
   "execution_count": 56,
   "id": "38f6a68b-abb9-4e32-81b5-6402a2b25eba",
   "metadata": {},
   "outputs": [],
   "source": [
    "\"\"\"\n",
    "You'll notice that in the salary column, they are flouts even\n",
    "though in the csv file they are int. This is becuase when they\n",
    "where imported a few of them ad NaN, so pandas converted the\n",
    "whole column into a float. Now we must change it back to int\n",
    "\"\"\"\n",
    "\n",
    "nba = pd.read_csv(\"data_files/nba.csv\").dropna(how=\"all\")\n",
    "nba[\"Salary\"] = nba[\"Salary\"].fillna(0)\n",
    "\n",
    "#nba.dtypes[\"Salary\"]  # float64\n",
    "\n",
    "# NOTE: This returns a copy so you'll need to set it manually\n",
    "nba[\"Salary\"] = nba[\"Salary\"].astype(int)\n",
    "\n",
    "#nba.dtypes[\"Salary\"]  # int64"
   ]
  },
  {
   "cell_type": "code",
   "execution_count": 69,
   "id": "9e3ac701-31cf-413b-8987-986c4e20c095",
   "metadata": {},
   "outputs": [
    {
     "data": {
      "text/plain": [
       "dtype('int64')"
      ]
     },
     "execution_count": 69,
     "metadata": {},
     "output_type": "execute_result"
    }
   ],
   "source": [
    "nba[\"Weight\"] = nba[\"Weight\"].fillna(0)\n",
    "nba[\"Weight\"] = nba[\"Weight\"].astype(int)\n",
    "\n",
    "nba.dtypes[\"Weight\"]"
   ]
  },
  {
   "cell_type": "markdown",
   "id": "2f381afd-3178-477a-9dd6-66f41ff17b1a",
   "metadata": {},
   "source": [
    "---"
   ]
  },
  {
   "cell_type": "markdown",
   "id": "3f6381c2",
   "metadata": {},
   "source": [
    "## The astype Method II\n",
    "- The `category` type is ideal for columns with a limited number of unique values.\n",
    "- The `nunique` method will return a **Series** with the number of unique values in each column.\n",
    "- With categories, pandas does not create a separate value in memory for each \"cell\". Rather, the cells point to a single copy for each unique value."
   ]
  },
  {
   "cell_type": "code",
   "execution_count": 86,
   "id": "e8017ea4-a4b9-4068-a0f7-ed86f51fc51f",
   "metadata": {},
   "outputs": [
    {
     "data": {
      "text/plain": [
       "Name        591\n",
       "Team         30\n",
       "Position      7\n",
       "Height       20\n",
       "Weight       94\n",
       "College     182\n",
       "Salary      299\n",
       "dtype: int64"
      ]
     },
     "execution_count": 86,
     "metadata": {},
     "output_type": "execute_result"
    }
   ],
   "source": [
    "\"\"\"\n",
    "There are lots of dup values like Team, College, Gender, or blood type.\n",
    "Converting columns to be category can save lots of resorces and speed up render\n",
    "times by not making pandas go over dup data over and over.\n",
    "\n",
    "The way it works is, it'll take a value Michigan college, create a single pointer\n",
    "for the name, then any time that college name comes up again, pandas will just point\n",
    "to that single location in memory, instead of having a new value for each intance.\n",
    "i.e. It'll find a spot for it once, then referce that pointer for every instance.\n",
    "\"\"\"\n",
    "\n",
    "#nba.info()  # memory usage: 36.9+ KB\n",
    "\n",
    "nba.nunique()"
   ]
  },
  {
   "cell_type": "code",
   "execution_count": 94,
   "id": "153dcfe2-77c5-44f7-8b9a-60b50fd78626",
   "metadata": {},
   "outputs": [
    {
     "name": "stdout",
     "output_type": "stream",
     "text": [
      "<class 'pandas.core.frame.DataFrame'>\n",
      "Index: 591 entries, 0 to 590\n",
      "Data columns (total 7 columns):\n",
      " #   Column    Non-Null Count  Dtype   \n",
      "---  ------    --------------  -----   \n",
      " 0   Name      591 non-null    object  \n",
      " 1   Team      591 non-null    category\n",
      " 2   Position  584 non-null    category\n",
      " 3   Height    585 non-null    object  \n",
      " 4   Weight    591 non-null    int64   \n",
      " 5   College   578 non-null    category\n",
      " 6   Salary    591 non-null    int64   \n",
      "dtypes: category(3), int64(2), object(2)\n",
      "memory usage: 32.5+ KB\n"
     ]
    }
   ],
   "source": [
    "# To initiate a category, simple input \"category\" into the astype method\n",
    "nba[\"Team\"] = nba[\"Team\"].astype(\"category\")\n",
    "nba[\"Position\"] = nba[\"Position\"].astype(\"category\")\n",
    "nba[\"College\"] = nba[\"College\"].astype(\"category\")\n",
    "\n",
    "\n",
    "nba.info()  # memory usage: 32.5+ KB (12% more efficient)"
   ]
  },
  {
   "cell_type": "code",
   "execution_count": null,
   "id": "59b034e0-5fd8-458a-b43c-e9074bb02e29",
   "metadata": {},
   "outputs": [],
   "source": []
  },
  {
   "cell_type": "code",
   "execution_count": null,
   "id": "3e452a13-d256-4506-9225-a1b6fae39ced",
   "metadata": {},
   "outputs": [],
   "source": []
  },
  {
   "cell_type": "code",
   "execution_count": null,
   "id": "87f37d8d-a73e-45aa-a166-455b5dcd9fbf",
   "metadata": {},
   "outputs": [],
   "source": []
  },
  {
   "cell_type": "code",
   "execution_count": null,
   "id": "85e5a7ad-1877-4d58-a6f9-103d2e8dd4fe",
   "metadata": {},
   "outputs": [],
   "source": []
  },
  {
   "cell_type": "markdown",
   "id": "995e3173-5007-4499-af01-b81b57e1acac",
   "metadata": {},
   "source": [
    "---"
   ]
  },
  {
   "cell_type": "markdown",
   "id": "8c9851d8",
   "metadata": {},
   "source": [
    "## Sort a DataFrame with the sort_values Method I\n",
    "- The `sort_values` method sorts a **DataFrame** by the values in one or more columns. The default sort is an ascending one (alphabetical for strings).\n",
    "- The first parameter (`by`) expects the column(s) to sort by.\n",
    "- If sorting by a single column, pass a string with its name.\n",
    "- The `ascending` parameter customizes the sort order.\n",
    "- The `na_position` parameter customizes where pandas places `NaN` values."
   ]
  },
  {
   "cell_type": "code",
   "execution_count": null,
   "id": "8cdda111-6a2d-43a1-b098-8dbefe3fbe57",
   "metadata": {},
   "outputs": [],
   "source": []
  },
  {
   "cell_type": "code",
   "execution_count": null,
   "id": "4f9a8e76-6d45-456a-b7ee-da279ca4b846",
   "metadata": {},
   "outputs": [],
   "source": []
  },
  {
   "cell_type": "markdown",
   "id": "d06e3016-a2c4-4792-90a1-788a19b82399",
   "metadata": {},
   "source": [
    "---"
   ]
  },
  {
   "cell_type": "markdown",
   "id": "086886da",
   "metadata": {},
   "source": [
    "## Sort a DataFrame with the sort_values Method II\n",
    "- To sort by multiple columns, pass the `by` parameter a list of column names. Pandas will sort in the specified column order (first to last).\n",
    "- Pass the `ascending` parameter a Boolean to sort all columns in a consistent order (all ascending or all descending).\n",
    "- Pass `ascending` a list to customize the sort order *per* column. The `ascending` list length must match the `by` list."
   ]
  },
  {
   "cell_type": "code",
   "execution_count": null,
   "id": "b666d298-1fee-4372-8775-91353dd0caa6",
   "metadata": {},
   "outputs": [],
   "source": []
  },
  {
   "cell_type": "code",
   "execution_count": null,
   "id": "da2a2d40-9c78-499a-a0cf-42750443ea54",
   "metadata": {},
   "outputs": [],
   "source": []
  },
  {
   "cell_type": "markdown",
   "id": "5762f8c4-4453-4c88-b516-842b73b41942",
   "metadata": {},
   "source": [
    "---"
   ]
  },
  {
   "cell_type": "markdown",
   "id": "0439e26b",
   "metadata": {
    "jp-MarkdownHeadingCollapsed": true
   },
   "source": [
    "## Sort a DataFrame by its Index\n",
    "- The `sort_index` method sorts the **DataFrame** by its index positions/labels."
   ]
  },
  {
   "cell_type": "code",
   "execution_count": null,
   "id": "b429f999-e4fc-4c1e-84ba-167da47ed5eb",
   "metadata": {},
   "outputs": [],
   "source": []
  },
  {
   "cell_type": "code",
   "execution_count": null,
   "id": "89f28797-2194-44ed-ad24-bff2bd2a92b2",
   "metadata": {},
   "outputs": [],
   "source": []
  },
  {
   "cell_type": "code",
   "execution_count": null,
   "id": "d4b9a049-502b-4af4-8723-a77832cab037",
   "metadata": {},
   "outputs": [],
   "source": []
  },
  {
   "cell_type": "markdown",
   "id": "19400886-b73b-4e61-8607-4611ca4cfb50",
   "metadata": {},
   "source": [
    "---"
   ]
  },
  {
   "cell_type": "markdown",
   "id": "093e0239",
   "metadata": {},
   "source": [
    "## Rank Values with the rank Method\n",
    "- The `rank` method assigns a numeric ranking to each **Series** value.\n",
    "- Pandas will assign the same rank to equal values and create a \"gap\" in the dataset for the ranks."
   ]
  },
  {
   "cell_type": "code",
   "execution_count": null,
   "id": "8765d174",
   "metadata": {},
   "outputs": [],
   "source": []
  },
  {
   "cell_type": "code",
   "execution_count": null,
   "id": "dcdb7a22-55d9-45cc-a919-83957bf52823",
   "metadata": {},
   "outputs": [],
   "source": []
  },
  {
   "cell_type": "code",
   "execution_count": null,
   "id": "bbf0e745-976d-4a51-8780-c33e01470991",
   "metadata": {},
   "outputs": [],
   "source": []
  },
  {
   "cell_type": "code",
   "execution_count": null,
   "id": "f4118c87-2691-4662-96ff-513a626eaa32",
   "metadata": {},
   "outputs": [],
   "source": []
  },
  {
   "cell_type": "code",
   "execution_count": null,
   "id": "b0f520ff-71ed-4924-8479-dba05a5a5782",
   "metadata": {},
   "outputs": [],
   "source": []
  },
  {
   "cell_type": "code",
   "execution_count": null,
   "id": "2811a88c",
   "metadata": {},
   "outputs": [],
   "source": []
  }
 ],
 "metadata": {
  "kernelspec": {
   "display_name": "Python 3 (ipykernel)",
   "language": "python",
   "name": "python3"
  },
  "language_info": {
   "codemirror_mode": {
    "name": "ipython",
    "version": 3
   },
   "file_extension": ".py",
   "mimetype": "text/x-python",
   "name": "python",
   "nbconvert_exporter": "python",
   "pygments_lexer": "ipython3",
   "version": "3.12.5"
  }
 },
 "nbformat": 4,
 "nbformat_minor": 5
}
