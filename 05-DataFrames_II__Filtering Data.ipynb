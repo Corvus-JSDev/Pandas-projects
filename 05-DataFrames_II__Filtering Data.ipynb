{
 "cells": [
  {
   "cell_type": "markdown",
   "metadata": {},
   "source": [
    "# DataFrames II: Filtering Data"
   ]
  },
  {
   "cell_type": "code",
   "execution_count": 1,
   "metadata": {},
   "outputs": [],
   "source": [
    "import pandas as pd\n",
    "import datetime as dt"
   ]
  },
  {
   "cell_type": "markdown",
   "metadata": {},
   "source": [
    "## This Module's Dataset + Memory Optimization\n",
    "- The `pd.to_datetime` method converts a **Series** to hold datetime values.\n",
    "- The `format` parameter informs pandas of the format that the times are stored in.\n",
    "- We pass symbols designating the segments of the string. For example, %m means \"month\" and %d means day.\n",
    "- The `dt` attribute reveals an object with many datetime-related attributes and methods.\n",
    "- The `dt.time` attribute extracts only the time from each value in a datetime **Series**.\n",
    "- Use the `astype` method to convert the values in a **Series** to another type.\n",
    "- The `parse_dates` parameter of `read_csv` is an alternate way to parse strings as datetimes."
   ]
  },
  {
   "cell_type": "code",
   "execution_count": 2,
   "metadata": {},
   "outputs": [
    {
     "data": {
      "text/html": [
       "<div>\n",
       "<style scoped>\n",
       "    .dataframe tbody tr th:only-of-type {\n",
       "        vertical-align: middle;\n",
       "    }\n",
       "\n",
       "    .dataframe tbody tr th {\n",
       "        vertical-align: top;\n",
       "    }\n",
       "\n",
       "    .dataframe thead th {\n",
       "        text-align: right;\n",
       "    }\n",
       "</style>\n",
       "<table border=\"1\" class=\"dataframe\">\n",
       "  <thead>\n",
       "    <tr style=\"text-align: right;\">\n",
       "      <th></th>\n",
       "      <th>First Name</th>\n",
       "      <th>Gender</th>\n",
       "      <th>Start Date</th>\n",
       "      <th>Last Login Time</th>\n",
       "      <th>Salary</th>\n",
       "      <th>Bonus %</th>\n",
       "      <th>Senior Management</th>\n",
       "      <th>Team</th>\n",
       "    </tr>\n",
       "  </thead>\n",
       "  <tbody>\n",
       "    <tr>\n",
       "      <th>0</th>\n",
       "      <td>Douglas</td>\n",
       "      <td>Male</td>\n",
       "      <td>8/6/1993</td>\n",
       "      <td>12:42 PM</td>\n",
       "      <td>97308</td>\n",
       "      <td>6.945</td>\n",
       "      <td>True</td>\n",
       "      <td>Marketing</td>\n",
       "    </tr>\n",
       "    <tr>\n",
       "      <th>1</th>\n",
       "      <td>Thomas</td>\n",
       "      <td>Male</td>\n",
       "      <td>3/31/1996</td>\n",
       "      <td>6:53 AM</td>\n",
       "      <td>61933</td>\n",
       "      <td>4.170</td>\n",
       "      <td>True</td>\n",
       "      <td>NaN</td>\n",
       "    </tr>\n",
       "    <tr>\n",
       "      <th>2</th>\n",
       "      <td>Maria</td>\n",
       "      <td>Female</td>\n",
       "      <td>4/23/1993</td>\n",
       "      <td>11:17 AM</td>\n",
       "      <td>130590</td>\n",
       "      <td>11.858</td>\n",
       "      <td>False</td>\n",
       "      <td>Finance</td>\n",
       "    </tr>\n",
       "  </tbody>\n",
       "</table>\n",
       "</div>"
      ],
      "text/plain": [
       "  First Name  Gender Start Date Last Login Time  Salary  Bonus %  \\\n",
       "0    Douglas    Male   8/6/1993        12:42 PM   97308    6.945   \n",
       "1     Thomas    Male  3/31/1996         6:53 AM   61933    4.170   \n",
       "2      Maria  Female  4/23/1993        11:17 AM  130590   11.858   \n",
       "\n",
       "  Senior Management       Team  \n",
       "0              True  Marketing  \n",
       "1              True        NaN  \n",
       "2             False    Finance  "
      ]
     },
     "execution_count": 2,
     "metadata": {},
     "output_type": "execute_result"
    }
   ],
   "source": [
    "employees = pd.read_csv(\"data_files/employees.csv\")\n",
    "\n",
    "employees.head(3)\n",
    "#employees.info()  # memory usage: 62.6+ KB"
   ]
  },
  {
   "cell_type": "code",
   "execution_count": 3,
   "metadata": {},
   "outputs": [
    {
     "data": {
      "text/plain": [
       "Gender               object\n",
       "Start Date           object\n",
       "Last Login Time      object\n",
       "Senior Management    object\n",
       "dtype: object"
      ]
     },
     "execution_count": 3,
     "metadata": {},
     "output_type": "execute_result"
    }
   ],
   "source": [
    "employees.dtypes[[\"Gender\", \"Start Date\", \"Last Login Time\", \"Senior Management\"]]"
   ]
  },
  {
   "cell_type": "code",
   "execution_count": 4,
   "metadata": {},
   "outputs": [],
   "source": [
    "# format tell pandas what the format of the input is.\n",
    "# i.e.\n",
    "# str = \"09-11-2000\"   format = \"%m-%d-%Y\"\n",
    "# str = \"09/11/2000\"   format = \"%m/%d/%Y\"\n",
    "\n",
    "employees[\"Start Date\"] = pd.to_datetime( employees[\"Start Date\"], format=\"%m/%d/%Y\" )"
   ]
  },
  {
   "cell_type": "code",
   "execution_count": 5,
   "metadata": {},
   "outputs": [],
   "source": [
    "# %H = Hour\n",
    "# %M = Minute\n",
    "# %p = am/pm\n",
    "\n",
    "# NOTE: In the absence of a date, pandas will default to 1900-01-01\n",
    "# because it just store both a date and a time.\n",
    "# To get around this, we use .dt.time after the to_datetime function\n",
    "employees[\"Last Login Time\"] = pd.to_datetime( employees[\"Last Login Time\"], format=\"%H:%M %p\" ).dt.time"
   ]
  },
  {
   "cell_type": "code",
   "execution_count": 6,
   "metadata": {},
   "outputs": [],
   "source": [
    "employees[\"Senior Management\"] = employees[\"Senior Management\"].astype(bool)"
   ]
  },
  {
   "cell_type": "code",
   "execution_count": 7,
   "metadata": {},
   "outputs": [],
   "source": [
    "employees[\"Gender\"] = employees[\"Gender\"].astype(\"category\")"
   ]
  },
  {
   "cell_type": "code",
   "execution_count": 8,
   "metadata": {},
   "outputs": [
    {
     "data": {
      "text/html": [
       "<div>\n",
       "<style scoped>\n",
       "    .dataframe tbody tr th:only-of-type {\n",
       "        vertical-align: middle;\n",
       "    }\n",
       "\n",
       "    .dataframe tbody tr th {\n",
       "        vertical-align: top;\n",
       "    }\n",
       "\n",
       "    .dataframe thead th {\n",
       "        text-align: right;\n",
       "    }\n",
       "</style>\n",
       "<table border=\"1\" class=\"dataframe\">\n",
       "  <thead>\n",
       "    <tr style=\"text-align: right;\">\n",
       "      <th></th>\n",
       "      <th>First Name</th>\n",
       "      <th>Gender</th>\n",
       "      <th>Start Date</th>\n",
       "      <th>Last Login Time</th>\n",
       "      <th>Salary</th>\n",
       "      <th>Bonus %</th>\n",
       "      <th>Senior Management</th>\n",
       "      <th>Team</th>\n",
       "    </tr>\n",
       "  </thead>\n",
       "  <tbody>\n",
       "    <tr>\n",
       "      <th>0</th>\n",
       "      <td>Douglas</td>\n",
       "      <td>Male</td>\n",
       "      <td>1993-08-06</td>\n",
       "      <td>12:42:00</td>\n",
       "      <td>97308</td>\n",
       "      <td>6.945</td>\n",
       "      <td>True</td>\n",
       "      <td>Marketing</td>\n",
       "    </tr>\n",
       "    <tr>\n",
       "      <th>1</th>\n",
       "      <td>Thomas</td>\n",
       "      <td>Male</td>\n",
       "      <td>1996-03-31</td>\n",
       "      <td>06:53:00</td>\n",
       "      <td>61933</td>\n",
       "      <td>4.170</td>\n",
       "      <td>True</td>\n",
       "      <td>NaN</td>\n",
       "    </tr>\n",
       "    <tr>\n",
       "      <th>2</th>\n",
       "      <td>Maria</td>\n",
       "      <td>Female</td>\n",
       "      <td>1993-04-23</td>\n",
       "      <td>11:17:00</td>\n",
       "      <td>130590</td>\n",
       "      <td>11.858</td>\n",
       "      <td>False</td>\n",
       "      <td>Finance</td>\n",
       "    </tr>\n",
       "  </tbody>\n",
       "</table>\n",
       "</div>"
      ],
      "text/plain": [
       "  First Name  Gender Start Date Last Login Time  Salary  Bonus %  \\\n",
       "0    Douglas    Male 1993-08-06        12:42:00   97308    6.945   \n",
       "1     Thomas    Male 1996-03-31        06:53:00   61933    4.170   \n",
       "2      Maria  Female 1993-04-23        11:17:00  130590   11.858   \n",
       "\n",
       "   Senior Management       Team  \n",
       "0               True  Marketing  \n",
       "1               True        NaN  \n",
       "2              False    Finance  "
      ]
     },
     "execution_count": 8,
     "metadata": {},
     "output_type": "execute_result"
    }
   ],
   "source": [
    "employees.head(3)"
   ]
  },
  {
   "cell_type": "code",
   "execution_count": 9,
   "metadata": {},
   "outputs": [
    {
     "data": {
      "text/plain": [
       "Gender                     category\n",
       "Start Date           datetime64[ns]\n",
       "Last Login Time              object\n",
       "Senior Management              bool\n",
       "dtype: object"
      ]
     },
     "execution_count": 9,
     "metadata": {},
     "output_type": "execute_result"
    }
   ],
   "source": [
    "employees.dtypes[[\"Gender\", \"Start Date\", \"Last Login Time\", \"Senior Management\"]]\n",
    "\n",
    "#employees.info()  # memory usage: 49.1+ KB (21.5% optimization)"
   ]
  },
  {
   "cell_type": "markdown",
   "metadata": {},
   "source": [
    "---"
   ]
  },
  {
   "cell_type": "markdown",
   "metadata": {},
   "source": [
    "## Filter a DataFrame Based On a Single Condition\n",
    "- Pandas needs a **Series** of Booleans to perform a filter.\n",
    "- Pass the Boolean Series inside square brackets after the **DataFrame**.\n",
    "- We can generate a Boolean Series using a wide variety of operations (equality, inequality, less than, greater than, inclusion, etc)"
   ]
  },
  {
   "cell_type": "code",
   "execution_count": 10,
   "metadata": {},
   "outputs": [
    {
     "data": {
      "text/html": [
       "<div>\n",
       "<style scoped>\n",
       "    .dataframe tbody tr th:only-of-type {\n",
       "        vertical-align: middle;\n",
       "    }\n",
       "\n",
       "    .dataframe tbody tr th {\n",
       "        vertical-align: top;\n",
       "    }\n",
       "\n",
       "    .dataframe thead th {\n",
       "        text-align: right;\n",
       "    }\n",
       "</style>\n",
       "<table border=\"1\" class=\"dataframe\">\n",
       "  <thead>\n",
       "    <tr style=\"text-align: right;\">\n",
       "      <th></th>\n",
       "      <th>First Name</th>\n",
       "      <th>Gender</th>\n",
       "      <th>Start Date</th>\n",
       "      <th>Last Login Time</th>\n",
       "      <th>Salary</th>\n",
       "      <th>Bonus %</th>\n",
       "      <th>Senior Management</th>\n",
       "      <th>Team</th>\n",
       "    </tr>\n",
       "  </thead>\n",
       "  <tbody>\n",
       "    <tr>\n",
       "      <th>0</th>\n",
       "      <td>Douglas</td>\n",
       "      <td>Male</td>\n",
       "      <td>1993-08-06</td>\n",
       "      <td>12:42:00</td>\n",
       "      <td>97308</td>\n",
       "      <td>6.945</td>\n",
       "      <td>True</td>\n",
       "      <td>Marketing</td>\n",
       "    </tr>\n",
       "    <tr>\n",
       "      <th>2</th>\n",
       "      <td>Maria</td>\n",
       "      <td>Female</td>\n",
       "      <td>1993-04-23</td>\n",
       "      <td>11:17:00</td>\n",
       "      <td>130590</td>\n",
       "      <td>11.858</td>\n",
       "      <td>False</td>\n",
       "      <td>Finance</td>\n",
       "    </tr>\n",
       "    <tr>\n",
       "      <th>7</th>\n",
       "      <td>NaN</td>\n",
       "      <td>Female</td>\n",
       "      <td>2015-07-20</td>\n",
       "      <td>10:43:00</td>\n",
       "      <td>45906</td>\n",
       "      <td>11.598</td>\n",
       "      <td>True</td>\n",
       "      <td>Finance</td>\n",
       "    </tr>\n",
       "    <tr>\n",
       "      <th>10</th>\n",
       "      <td>Louise</td>\n",
       "      <td>Female</td>\n",
       "      <td>1980-08-12</td>\n",
       "      <td>09:01:00</td>\n",
       "      <td>63241</td>\n",
       "      <td>15.132</td>\n",
       "      <td>True</td>\n",
       "      <td>NaN</td>\n",
       "    </tr>\n",
       "    <tr>\n",
       "      <th>13</th>\n",
       "      <td>Gary</td>\n",
       "      <td>Male</td>\n",
       "      <td>2008-01-27</td>\n",
       "      <td>11:40:00</td>\n",
       "      <td>109831</td>\n",
       "      <td>5.831</td>\n",
       "      <td>False</td>\n",
       "      <td>Sales</td>\n",
       "    </tr>\n",
       "    <tr>\n",
       "      <th>...</th>\n",
       "      <td>...</td>\n",
       "      <td>...</td>\n",
       "      <td>...</td>\n",
       "      <td>...</td>\n",
       "      <td>...</td>\n",
       "      <td>...</td>\n",
       "      <td>...</td>\n",
       "      <td>...</td>\n",
       "    </tr>\n",
       "    <tr>\n",
       "      <th>983</th>\n",
       "      <td>John</td>\n",
       "      <td>Male</td>\n",
       "      <td>1982-12-23</td>\n",
       "      <td>10:35:00</td>\n",
       "      <td>146907</td>\n",
       "      <td>11.738</td>\n",
       "      <td>False</td>\n",
       "      <td>Engineering</td>\n",
       "    </tr>\n",
       "    <tr>\n",
       "      <th>985</th>\n",
       "      <td>Stephen</td>\n",
       "      <td>NaN</td>\n",
       "      <td>1983-07-10</td>\n",
       "      <td>08:10:00</td>\n",
       "      <td>85668</td>\n",
       "      <td>1.909</td>\n",
       "      <td>False</td>\n",
       "      <td>Legal</td>\n",
       "    </tr>\n",
       "    <tr>\n",
       "      <th>988</th>\n",
       "      <td>Alice</td>\n",
       "      <td>Female</td>\n",
       "      <td>2004-10-05</td>\n",
       "      <td>09:34:00</td>\n",
       "      <td>47638</td>\n",
       "      <td>11.209</td>\n",
       "      <td>False</td>\n",
       "      <td>Human Resources</td>\n",
       "    </tr>\n",
       "    <tr>\n",
       "      <th>992</th>\n",
       "      <td>Anthony</td>\n",
       "      <td>Male</td>\n",
       "      <td>2011-10-16</td>\n",
       "      <td>08:35:00</td>\n",
       "      <td>112769</td>\n",
       "      <td>11.625</td>\n",
       "      <td>True</td>\n",
       "      <td>Finance</td>\n",
       "    </tr>\n",
       "    <tr>\n",
       "      <th>997</th>\n",
       "      <td>Russell</td>\n",
       "      <td>Male</td>\n",
       "      <td>2013-05-20</td>\n",
       "      <td>12:39:00</td>\n",
       "      <td>96914</td>\n",
       "      <td>1.421</td>\n",
       "      <td>False</td>\n",
       "      <td>Product</td>\n",
       "    </tr>\n",
       "  </tbody>\n",
       "</table>\n",
       "<p>392 rows × 8 columns</p>\n",
       "</div>"
      ],
      "text/plain": [
       "    First Name  Gender Start Date Last Login Time  Salary  Bonus %  \\\n",
       "0      Douglas    Male 1993-08-06        12:42:00   97308    6.945   \n",
       "2        Maria  Female 1993-04-23        11:17:00  130590   11.858   \n",
       "7          NaN  Female 2015-07-20        10:43:00   45906   11.598   \n",
       "10      Louise  Female 1980-08-12        09:01:00   63241   15.132   \n",
       "13        Gary    Male 2008-01-27        11:40:00  109831    5.831   \n",
       "..         ...     ...        ...             ...     ...      ...   \n",
       "983       John    Male 1982-12-23        10:35:00  146907   11.738   \n",
       "985    Stephen     NaN 1983-07-10        08:10:00   85668    1.909   \n",
       "988      Alice  Female 2004-10-05        09:34:00   47638   11.209   \n",
       "992    Anthony    Male 2011-10-16        08:35:00  112769   11.625   \n",
       "997    Russell    Male 2013-05-20        12:39:00   96914    1.421   \n",
       "\n",
       "     Senior Management             Team  \n",
       "0                 True        Marketing  \n",
       "2                False          Finance  \n",
       "7                 True          Finance  \n",
       "10                True              NaN  \n",
       "13               False            Sales  \n",
       "..                 ...              ...  \n",
       "983              False      Engineering  \n",
       "985              False            Legal  \n",
       "988              False  Human Resources  \n",
       "992               True          Finance  \n",
       "997              False          Product  \n",
       "\n",
       "[392 rows x 8 columns]"
      ]
     },
     "execution_count": 10,
     "metadata": {},
     "output_type": "execute_result"
    }
   ],
   "source": [
    "employees[employees[\"Gender\"] == \"Male\"]  # Return all male employees\n",
    "\n",
    "employees[employees[\"Team\"] == \"Finance\"]  # Return all employees that are in finance\n",
    "\n",
    "# You can also break up the syntax for readability\n",
    "on_marketing_team = employees[\"Team\"] == \"Marketing\"\n",
    "employees[on_marketing_team]\n",
    "\n",
    "# For columns that are already a bool - such as \"Senior Management\" - we can skip the operator\n",
    "employees[employees[\"Senior Management\"]]\n",
    "\n",
    "employees[employees[\"Salary\"] > 100_000]\n",
    "\n",
    "employees[employees[\"Bonus %\"] < 1.5].head()\n",
    "\n",
    "\n",
    "# Pandas is smart and (if using the same format) will understand date times\n",
    "employees[ employees[\"Start Date\"] < \"1995-01-01\" ]\n",
    "\n",
    "# Hour, Minute, Second\n",
    "time = dt.time(8, 0, 0)\n",
    "employees[ employees[\"Last Login Time\"] > time ]"
   ]
  },
  {
   "cell_type": "markdown",
   "metadata": {},
   "source": [
    "---"
   ]
  },
  {
   "cell_type": "markdown",
   "metadata": {},
   "source": [
    "## Filter with More than One Condition (AND)\n",
    "- Add the `&` operator in between two Boolean **Series** to filter by multiple conditions.\n",
    "- We can assign the **Series** to variables to make the syntax more readable."
   ]
  },
  {
   "cell_type": "code",
   "execution_count": 11,
   "metadata": {},
   "outputs": [
    {
     "data": {
      "text/html": [
       "<div>\n",
       "<style scoped>\n",
       "    .dataframe tbody tr th:only-of-type {\n",
       "        vertical-align: middle;\n",
       "    }\n",
       "\n",
       "    .dataframe tbody tr th {\n",
       "        vertical-align: top;\n",
       "    }\n",
       "\n",
       "    .dataframe thead th {\n",
       "        text-align: right;\n",
       "    }\n",
       "</style>\n",
       "<table border=\"1\" class=\"dataframe\">\n",
       "  <thead>\n",
       "    <tr style=\"text-align: right;\">\n",
       "      <th></th>\n",
       "      <th>First Name</th>\n",
       "      <th>Gender</th>\n",
       "      <th>Start Date</th>\n",
       "      <th>Last Login Time</th>\n",
       "      <th>Salary</th>\n",
       "      <th>Bonus %</th>\n",
       "      <th>Senior Management</th>\n",
       "      <th>Team</th>\n",
       "    </tr>\n",
       "  </thead>\n",
       "  <tbody>\n",
       "    <tr>\n",
       "      <th>43</th>\n",
       "      <td>Marilyn</td>\n",
       "      <td>Female</td>\n",
       "      <td>1980-12-07</td>\n",
       "      <td>03:16:00</td>\n",
       "      <td>73524</td>\n",
       "      <td>5.207</td>\n",
       "      <td>True</td>\n",
       "      <td>Marketing</td>\n",
       "    </tr>\n",
       "    <tr>\n",
       "      <th>62</th>\n",
       "      <td>NaN</td>\n",
       "      <td>Female</td>\n",
       "      <td>2007-06-12</td>\n",
       "      <td>05:25:00</td>\n",
       "      <td>58112</td>\n",
       "      <td>19.414</td>\n",
       "      <td>True</td>\n",
       "      <td>Marketing</td>\n",
       "    </tr>\n",
       "    <tr>\n",
       "      <th>98</th>\n",
       "      <td>Tina</td>\n",
       "      <td>Female</td>\n",
       "      <td>2016-06-16</td>\n",
       "      <td>07:47:00</td>\n",
       "      <td>100705</td>\n",
       "      <td>16.961</td>\n",
       "      <td>True</td>\n",
       "      <td>Marketing</td>\n",
       "    </tr>\n",
       "    <tr>\n",
       "      <th>140</th>\n",
       "      <td>Shirley</td>\n",
       "      <td>Female</td>\n",
       "      <td>1981-02-28</td>\n",
       "      <td>01:23:00</td>\n",
       "      <td>113850</td>\n",
       "      <td>1.854</td>\n",
       "      <td>False</td>\n",
       "      <td>Marketing</td>\n",
       "    </tr>\n",
       "    <tr>\n",
       "      <th>158</th>\n",
       "      <td>Norma</td>\n",
       "      <td>Female</td>\n",
       "      <td>1999-02-28</td>\n",
       "      <td>08:45:00</td>\n",
       "      <td>114412</td>\n",
       "      <td>8.756</td>\n",
       "      <td>True</td>\n",
       "      <td>Marketing</td>\n",
       "    </tr>\n",
       "  </tbody>\n",
       "</table>\n",
       "</div>"
      ],
      "text/plain": [
       "    First Name  Gender Start Date Last Login Time  Salary  Bonus %  \\\n",
       "43     Marilyn  Female 1980-12-07        03:16:00   73524    5.207   \n",
       "62         NaN  Female 2007-06-12        05:25:00   58112   19.414   \n",
       "98        Tina  Female 2016-06-16        07:47:00  100705   16.961   \n",
       "140    Shirley  Female 1981-02-28        01:23:00  113850    1.854   \n",
       "158      Norma  Female 1999-02-28        08:45:00  114412    8.756   \n",
       "\n",
       "     Senior Management       Team  \n",
       "43                True  Marketing  \n",
       "62                True  Marketing  \n",
       "98                True  Marketing  \n",
       "140              False  Marketing  \n",
       "158               True  Marketing  "
      ]
     },
     "execution_count": 11,
     "metadata": {},
     "output_type": "execute_result"
    }
   ],
   "source": [
    "# NOTE: For whatever reason, you must put the operators into a variable before using them.\n",
    "\n",
    "is_female = employees[\"Gender\"] == \"Female\"\n",
    "is_marketing = employees[\"Team\"] == \"Marketing\"\n",
    "\n",
    "employees[ is_female & is_marketing ].head()"
   ]
  },
  {
   "cell_type": "code",
   "execution_count": 12,
   "metadata": {},
   "outputs": [
    {
     "data": {
      "text/html": [
       "<div>\n",
       "<style scoped>\n",
       "    .dataframe tbody tr th:only-of-type {\n",
       "        vertical-align: middle;\n",
       "    }\n",
       "\n",
       "    .dataframe tbody tr th {\n",
       "        vertical-align: top;\n",
       "    }\n",
       "\n",
       "    .dataframe thead th {\n",
       "        text-align: right;\n",
       "    }\n",
       "</style>\n",
       "<table border=\"1\" class=\"dataframe\">\n",
       "  <thead>\n",
       "    <tr style=\"text-align: right;\">\n",
       "      <th></th>\n",
       "      <th>First Name</th>\n",
       "      <th>Gender</th>\n",
       "      <th>Start Date</th>\n",
       "      <th>Last Login Time</th>\n",
       "      <th>Salary</th>\n",
       "      <th>Bonus %</th>\n",
       "      <th>Senior Management</th>\n",
       "      <th>Team</th>\n",
       "    </tr>\n",
       "  </thead>\n",
       "  <tbody>\n",
       "    <tr>\n",
       "      <th>171</th>\n",
       "      <td>Patrick</td>\n",
       "      <td>Male</td>\n",
       "      <td>2007-08-17</td>\n",
       "      <td>03:16:00</td>\n",
       "      <td>143499</td>\n",
       "      <td>17.495</td>\n",
       "      <td>True</td>\n",
       "      <td>Engineering</td>\n",
       "    </tr>\n",
       "    <tr>\n",
       "      <th>175</th>\n",
       "      <td>Willie</td>\n",
       "      <td>Male</td>\n",
       "      <td>1998-02-17</td>\n",
       "      <td>08:20:00</td>\n",
       "      <td>146651</td>\n",
       "      <td>1.451</td>\n",
       "      <td>True</td>\n",
       "      <td>Engineering</td>\n",
       "    </tr>\n",
       "    <tr>\n",
       "      <th>447</th>\n",
       "      <td>Gregory</td>\n",
       "      <td>Male</td>\n",
       "      <td>2009-05-15</td>\n",
       "      <td>03:52:00</td>\n",
       "      <td>142208</td>\n",
       "      <td>11.204</td>\n",
       "      <td>True</td>\n",
       "      <td>Engineering</td>\n",
       "    </tr>\n",
       "    <tr>\n",
       "      <th>604</th>\n",
       "      <td>Bruce</td>\n",
       "      <td>Male</td>\n",
       "      <td>2013-03-15</td>\n",
       "      <td>11:13:00</td>\n",
       "      <td>141335</td>\n",
       "      <td>15.427</td>\n",
       "      <td>True</td>\n",
       "      <td>Engineering</td>\n",
       "    </tr>\n",
       "    <tr>\n",
       "      <th>652</th>\n",
       "      <td>Willie</td>\n",
       "      <td>Male</td>\n",
       "      <td>2009-12-05</td>\n",
       "      <td>05:39:00</td>\n",
       "      <td>141932</td>\n",
       "      <td>1.017</td>\n",
       "      <td>True</td>\n",
       "      <td>Engineering</td>\n",
       "    </tr>\n",
       "  </tbody>\n",
       "</table>\n",
       "</div>"
      ],
      "text/plain": [
       "    First Name Gender Start Date Last Login Time  Salary  Bonus %  \\\n",
       "171    Patrick   Male 2007-08-17        03:16:00  143499   17.495   \n",
       "175     Willie   Male 1998-02-17        08:20:00  146651    1.451   \n",
       "447    Gregory   Male 2009-05-15        03:52:00  142208   11.204   \n",
       "604      Bruce   Male 2013-03-15        11:13:00  141335   15.427   \n",
       "652     Willie   Male 2009-12-05        05:39:00  141932    1.017   \n",
       "\n",
       "     Senior Management         Team  \n",
       "171               True  Engineering  \n",
       "175               True  Engineering  \n",
       "447               True  Engineering  \n",
       "604               True  Engineering  \n",
       "652               True  Engineering  "
      ]
     },
     "execution_count": 12,
     "metadata": {},
     "output_type": "execute_result"
    }
   ],
   "source": [
    "is_male = employees[\"Gender\"] == \"Male\"\n",
    "is_engineer = employees[\"Team\"] == \"Engineering\"\n",
    "over_paid = employees[\"Salary\"] > 130_000\n",
    "\n",
    "employees[ is_male & is_engineer & over_paid ].head()"
   ]
  },
  {
   "cell_type": "markdown",
   "metadata": {},
   "source": [
    "---"
   ]
  },
  {
   "cell_type": "markdown",
   "metadata": {},
   "source": [
    "## Filter with More than One Condition (OR)\n",
    "- Use the `|` operator in between two Boolean **Series** to filter by *either* condition."
   ]
  },
  {
   "cell_type": "code",
   "execution_count": 13,
   "metadata": {},
   "outputs": [
    {
     "data": {
      "text/html": [
       "<div>\n",
       "<style scoped>\n",
       "    .dataframe tbody tr th:only-of-type {\n",
       "        vertical-align: middle;\n",
       "    }\n",
       "\n",
       "    .dataframe tbody tr th {\n",
       "        vertical-align: top;\n",
       "    }\n",
       "\n",
       "    .dataframe thead th {\n",
       "        text-align: right;\n",
       "    }\n",
       "</style>\n",
       "<table border=\"1\" class=\"dataframe\">\n",
       "  <thead>\n",
       "    <tr style=\"text-align: right;\">\n",
       "      <th></th>\n",
       "      <th>First Name</th>\n",
       "      <th>Gender</th>\n",
       "      <th>Start Date</th>\n",
       "      <th>Last Login Time</th>\n",
       "      <th>Salary</th>\n",
       "      <th>Bonus %</th>\n",
       "      <th>Senior Management</th>\n",
       "      <th>Team</th>\n",
       "    </tr>\n",
       "  </thead>\n",
       "  <tbody>\n",
       "    <tr>\n",
       "      <th>0</th>\n",
       "      <td>Douglas</td>\n",
       "      <td>Male</td>\n",
       "      <td>1993-08-06</td>\n",
       "      <td>12:42:00</td>\n",
       "      <td>97308</td>\n",
       "      <td>6.945</td>\n",
       "      <td>True</td>\n",
       "      <td>Marketing</td>\n",
       "    </tr>\n",
       "    <tr>\n",
       "      <th>1</th>\n",
       "      <td>Thomas</td>\n",
       "      <td>Male</td>\n",
       "      <td>1996-03-31</td>\n",
       "      <td>06:53:00</td>\n",
       "      <td>61933</td>\n",
       "      <td>4.170</td>\n",
       "      <td>True</td>\n",
       "      <td>NaN</td>\n",
       "    </tr>\n",
       "    <tr>\n",
       "      <th>3</th>\n",
       "      <td>Jerry</td>\n",
       "      <td>Male</td>\n",
       "      <td>2005-03-04</td>\n",
       "      <td>01:00:00</td>\n",
       "      <td>138705</td>\n",
       "      <td>9.340</td>\n",
       "      <td>True</td>\n",
       "      <td>Finance</td>\n",
       "    </tr>\n",
       "    <tr>\n",
       "      <th>4</th>\n",
       "      <td>Larry</td>\n",
       "      <td>Male</td>\n",
       "      <td>1998-01-24</td>\n",
       "      <td>04:47:00</td>\n",
       "      <td>101004</td>\n",
       "      <td>1.389</td>\n",
       "      <td>True</td>\n",
       "      <td>Client Services</td>\n",
       "    </tr>\n",
       "    <tr>\n",
       "      <th>5</th>\n",
       "      <td>Dennis</td>\n",
       "      <td>Male</td>\n",
       "      <td>1987-04-18</td>\n",
       "      <td>01:35:00</td>\n",
       "      <td>115163</td>\n",
       "      <td>10.125</td>\n",
       "      <td>False</td>\n",
       "      <td>Legal</td>\n",
       "    </tr>\n",
       "  </tbody>\n",
       "</table>\n",
       "</div>"
      ],
      "text/plain": [
       "  First Name Gender Start Date Last Login Time  Salary  Bonus %  \\\n",
       "0    Douglas   Male 1993-08-06        12:42:00   97308    6.945   \n",
       "1     Thomas   Male 1996-03-31        06:53:00   61933    4.170   \n",
       "3      Jerry   Male 2005-03-04        01:00:00  138705    9.340   \n",
       "4      Larry   Male 1998-01-24        04:47:00  101004    1.389   \n",
       "5     Dennis   Male 1987-04-18        01:35:00  115163   10.125   \n",
       "\n",
       "   Senior Management             Team  \n",
       "0               True        Marketing  \n",
       "1               True              NaN  \n",
       "3               True          Finance  \n",
       "4               True  Client Services  \n",
       "5              False            Legal  "
      ]
     },
     "execution_count": 13,
     "metadata": {},
     "output_type": "execute_result"
    }
   ],
   "source": [
    "# Find employees that are Senior Management or started before 1990\n",
    "\n",
    "is_senior = employees[\"Senior Management\"]\n",
    "started_before_1990 = employees[\"Start Date\"] < \"1990-01-01\"\n",
    "\n",
    "employees[ is_senior | started_before_1990 ].head()"
   ]
  },
  {
   "cell_type": "markdown",
   "metadata": {},
   "source": [
    "## Filter using both & and |"
   ]
  },
  {
   "cell_type": "code",
   "execution_count": 14,
   "metadata": {},
   "outputs": [
    {
     "data": {
      "text/html": [
       "<div>\n",
       "<style scoped>\n",
       "    .dataframe tbody tr th:only-of-type {\n",
       "        vertical-align: middle;\n",
       "    }\n",
       "\n",
       "    .dataframe tbody tr th {\n",
       "        vertical-align: top;\n",
       "    }\n",
       "\n",
       "    .dataframe thead th {\n",
       "        text-align: right;\n",
       "    }\n",
       "</style>\n",
       "<table border=\"1\" class=\"dataframe\">\n",
       "  <thead>\n",
       "    <tr style=\"text-align: right;\">\n",
       "      <th></th>\n",
       "      <th>First Name</th>\n",
       "      <th>Gender</th>\n",
       "      <th>Start Date</th>\n",
       "      <th>Last Login Time</th>\n",
       "      <th>Salary</th>\n",
       "      <th>Bonus %</th>\n",
       "      <th>Senior Management</th>\n",
       "      <th>Team</th>\n",
       "    </tr>\n",
       "  </thead>\n",
       "  <tbody>\n",
       "    <tr>\n",
       "      <th>15</th>\n",
       "      <td>Lillian</td>\n",
       "      <td>Female</td>\n",
       "      <td>2016-06-05</td>\n",
       "      <td>06:09:00</td>\n",
       "      <td>59414</td>\n",
       "      <td>1.256</td>\n",
       "      <td>False</td>\n",
       "      <td>Product</td>\n",
       "    </tr>\n",
       "    <tr>\n",
       "      <th>98</th>\n",
       "      <td>Tina</td>\n",
       "      <td>Female</td>\n",
       "      <td>2016-06-16</td>\n",
       "      <td>07:47:00</td>\n",
       "      <td>100705</td>\n",
       "      <td>16.961</td>\n",
       "      <td>True</td>\n",
       "      <td>Marketing</td>\n",
       "    </tr>\n",
       "    <tr>\n",
       "      <th>387</th>\n",
       "      <td>Robert</td>\n",
       "      <td>Male</td>\n",
       "      <td>1994-10-29</td>\n",
       "      <td>04:26:00</td>\n",
       "      <td>123294</td>\n",
       "      <td>19.894</td>\n",
       "      <td>False</td>\n",
       "      <td>Client Services</td>\n",
       "    </tr>\n",
       "    <tr>\n",
       "      <th>451</th>\n",
       "      <td>Terry</td>\n",
       "      <td>NaN</td>\n",
       "      <td>2016-07-15</td>\n",
       "      <td>12:29:00</td>\n",
       "      <td>140002</td>\n",
       "      <td>19.490</td>\n",
       "      <td>True</td>\n",
       "      <td>Marketing</td>\n",
       "    </tr>\n",
       "  </tbody>\n",
       "</table>\n",
       "</div>"
      ],
      "text/plain": [
       "    First Name  Gender Start Date Last Login Time  Salary  Bonus %  \\\n",
       "15     Lillian  Female 2016-06-05        06:09:00   59414    1.256   \n",
       "98        Tina  Female 2016-06-16        07:47:00  100705   16.961   \n",
       "387     Robert    Male 1994-10-29        04:26:00  123294   19.894   \n",
       "451      Terry     NaN 2016-07-15        12:29:00  140002   19.490   \n",
       "\n",
       "     Senior Management             Team  \n",
       "15               False          Product  \n",
       "98                True        Marketing  \n",
       "387              False  Client Services  \n",
       "451               True        Marketing  "
      ]
     },
     "execution_count": 14,
     "metadata": {},
     "output_type": "execute_result"
    }
   ],
   "source": [
    "# First name Robbert AND works in Client Services, OR Start Date after 2016-06-01\n",
    "\n",
    "name = employees[\"First Name\"] == \"Robert\"\n",
    "role = employees[\"Team\"] == \"Client Services\"\n",
    "start = employees[\"Start Date\"] > \"2016-06-01\"\n",
    "\n",
    "\n",
    "# NOTE: You MUST have () to specify the first item you want\n",
    "# to evaluate, then the second operation will happen.\n",
    "\n",
    "employees[ (name & role) | start ]"
   ]
  },
  {
   "cell_type": "markdown",
   "metadata": {},
   "source": [
    "---"
   ]
  },
  {
   "cell_type": "markdown",
   "metadata": {},
   "source": [
    "## The isin Method\n",
    "- The `isin` **Series** method accepts a collection object like a list, tuple, or **Series**.\n",
    "- The method returns True for a row if its value is found in the collection."
   ]
  },
  {
   "cell_type": "code",
   "execution_count": null,
   "metadata": {},
   "outputs": [],
   "source": []
  },
  {
   "cell_type": "code",
   "execution_count": null,
   "metadata": {},
   "outputs": [],
   "source": []
  },
  {
   "cell_type": "code",
   "execution_count": null,
   "metadata": {},
   "outputs": [],
   "source": []
  },
  {
   "cell_type": "markdown",
   "metadata": {},
   "source": [
    "---"
   ]
  },
  {
   "cell_type": "markdown",
   "metadata": {},
   "source": [
    "## The isnull and notnull Methods\n",
    "- The `isnull` method returns True for `NaN` values in a **Series**.\n",
    "- The `notnull` method returns True for present values in a **Series**."
   ]
  },
  {
   "cell_type": "code",
   "execution_count": null,
   "metadata": {},
   "outputs": [],
   "source": []
  },
  {
   "cell_type": "code",
   "execution_count": null,
   "metadata": {},
   "outputs": [],
   "source": []
  },
  {
   "cell_type": "markdown",
   "metadata": {},
   "source": [
    "---"
   ]
  },
  {
   "cell_type": "markdown",
   "metadata": {},
   "source": [
    "## The between Method\n",
    "- The `between` method returns True if a **Series** value is found within its range."
   ]
  },
  {
   "cell_type": "code",
   "execution_count": null,
   "metadata": {},
   "outputs": [],
   "source": []
  },
  {
   "cell_type": "code",
   "execution_count": null,
   "metadata": {},
   "outputs": [],
   "source": []
  },
  {
   "cell_type": "code",
   "execution_count": null,
   "metadata": {},
   "outputs": [],
   "source": []
  },
  {
   "cell_type": "markdown",
   "metadata": {},
   "source": [
    "---"
   ]
  },
  {
   "cell_type": "markdown",
   "metadata": {},
   "source": [
    "## The duplicated Method\n",
    "- The `duplicated` method returns True if a **Series** value is a duplicate.\n",
    "- Pandas will mark one occurrence of a repeated value as a non-duplicate.\n",
    "- Use the `keep` parameter to designate whether the first or last occurrence of a repeated value should be considered the \"non-duplicate\".\n",
    "- Pass False to the `keep` parameter to mark all occurrences of repeated values as duplicates.\n",
    "- Use the tilde symbol (`~`) to invert a **Series's** values. Trues will become Falses, and Falses will become trues."
   ]
  },
  {
   "cell_type": "code",
   "execution_count": null,
   "metadata": {},
   "outputs": [],
   "source": []
  },
  {
   "cell_type": "code",
   "execution_count": null,
   "metadata": {},
   "outputs": [],
   "source": []
  },
  {
   "cell_type": "code",
   "execution_count": null,
   "metadata": {},
   "outputs": [],
   "source": []
  },
  {
   "cell_type": "markdown",
   "metadata": {},
   "source": [
    "---"
   ]
  },
  {
   "cell_type": "markdown",
   "metadata": {},
   "source": [
    "## The drop_duplicates Method\n",
    "- The `drop_duplicates` method deletes rows with duplicate values.\n",
    "- By default, it will remove a row if *all* of its values are shared with another row.\n",
    "- The `subset` parameter configures the columns to look for duplicate values within.\n",
    "- Pass a list to `subset` parameter to look for duplicates across multiple columns."
   ]
  },
  {
   "cell_type": "code",
   "execution_count": null,
   "metadata": {},
   "outputs": [],
   "source": []
  },
  {
   "cell_type": "code",
   "execution_count": null,
   "metadata": {},
   "outputs": [],
   "source": []
  },
  {
   "cell_type": "code",
   "execution_count": null,
   "metadata": {},
   "outputs": [],
   "source": []
  },
  {
   "cell_type": "markdown",
   "metadata": {},
   "source": [
    "---"
   ]
  },
  {
   "cell_type": "markdown",
   "metadata": {},
   "source": [
    "## The unique and nunique Methods\n",
    "- The `unique` method on a **Series** returns a collection of its unique values. The method does not exist on a **DataFrame**.\n",
    "- The `nunique` method returns a *count* of the number of unique values in the **Series**/**DataFrame**.\n",
    "- The `dropna` parameter configures whether to include or exclude missing (`NaN`) values."
   ]
  },
  {
   "cell_type": "code",
   "execution_count": null,
   "metadata": {},
   "outputs": [],
   "source": []
  },
  {
   "cell_type": "code",
   "execution_count": null,
   "metadata": {},
   "outputs": [],
   "source": []
  },
  {
   "cell_type": "code",
   "execution_count": null,
   "metadata": {},
   "outputs": [],
   "source": []
  },
  {
   "cell_type": "code",
   "execution_count": null,
   "metadata": {},
   "outputs": [],
   "source": []
  },
  {
   "cell_type": "code",
   "execution_count": null,
   "metadata": {},
   "outputs": [],
   "source": []
  },
  {
   "cell_type": "code",
   "execution_count": null,
   "metadata": {},
   "outputs": [],
   "source": []
  }
 ],
 "metadata": {
  "anaconda-cloud": {},
  "kernelspec": {
   "display_name": "Python 3 (ipykernel)",
   "language": "python",
   "name": "python3"
  },
  "language_info": {
   "codemirror_mode": {
    "name": "ipython",
    "version": 3
   },
   "file_extension": ".py",
   "mimetype": "text/x-python",
   "name": "python",
   "nbconvert_exporter": "python",
   "pygments_lexer": "ipython3",
   "version": "3.12.5"
  }
 },
 "nbformat": 4,
 "nbformat_minor": 4
}
